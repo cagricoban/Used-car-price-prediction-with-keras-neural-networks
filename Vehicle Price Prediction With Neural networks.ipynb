{
 "cells": [
  {
   "cell_type": "markdown",
   "id": "49f827d8",
   "metadata": {},
   "source": [
    "# Vehicle Price Prediction With Neural networks"
   ]
  },
  {
   "cell_type": "markdown",
   "id": "957c0343",
   "metadata": {},
   "source": [
    "Our data is taken from \"https://www.kaggle.com/datasets/adityadesai13/used-car-dataset-ford-and-mercedes\" on the Kaggle platform. Our dataset consists of 100,000 used car information used in the UK. The dataset consists of different car models. In the study, Mercedes brand automobile data were discussed."
   ]
  },
  {
   "cell_type": "code",
   "execution_count": 5,
   "id": "40609a47",
   "metadata": {},
   "outputs": [],
   "source": [
    "import pandas as pd\n",
    "import numpy as np\n",
    "import matplotlib.pyplot as plt\n",
    "import seaborn as sbn\n",
    "import warnings as w\n",
    "w.filterwarnings('ignore')"
   ]
  },
  {
   "cell_type": "markdown",
   "id": "64938e0b",
   "metadata": {},
   "source": [
    "We load the dataset from excel."
   ]
  },
  {
   "cell_type": "code",
   "execution_count": 6,
   "id": "3e0d18f0",
   "metadata": {},
   "outputs": [],
   "source": [
    "dataFrame= pd.read_excel(\"merc.xlsx\")"
   ]
  },
  {
   "cell_type": "code",
   "execution_count": 7,
   "id": "8330a343",
   "metadata": {},
   "outputs": [
    {
     "data": {
      "text/html": [
       "<div>\n",
       "<style scoped>\n",
       "    .dataframe tbody tr th:only-of-type {\n",
       "        vertical-align: middle;\n",
       "    }\n",
       "\n",
       "    .dataframe tbody tr th {\n",
       "        vertical-align: top;\n",
       "    }\n",
       "\n",
       "    .dataframe thead th {\n",
       "        text-align: right;\n",
       "    }\n",
       "</style>\n",
       "<table border=\"1\" class=\"dataframe\">\n",
       "  <thead>\n",
       "    <tr style=\"text-align: right;\">\n",
       "      <th></th>\n",
       "      <th>year</th>\n",
       "      <th>price</th>\n",
       "      <th>transmission</th>\n",
       "      <th>mileage</th>\n",
       "      <th>tax</th>\n",
       "      <th>mpg</th>\n",
       "      <th>engineSize</th>\n",
       "    </tr>\n",
       "  </thead>\n",
       "  <tbody>\n",
       "    <tr>\n",
       "      <th>0</th>\n",
       "      <td>2005</td>\n",
       "      <td>5200</td>\n",
       "      <td>Automatic</td>\n",
       "      <td>63000</td>\n",
       "      <td>325</td>\n",
       "      <td>32.1</td>\n",
       "      <td>1.8</td>\n",
       "    </tr>\n",
       "    <tr>\n",
       "      <th>1</th>\n",
       "      <td>2017</td>\n",
       "      <td>34948</td>\n",
       "      <td>Automatic</td>\n",
       "      <td>27000</td>\n",
       "      <td>20</td>\n",
       "      <td>61.4</td>\n",
       "      <td>2.1</td>\n",
       "    </tr>\n",
       "    <tr>\n",
       "      <th>2</th>\n",
       "      <td>2016</td>\n",
       "      <td>49948</td>\n",
       "      <td>Automatic</td>\n",
       "      <td>6200</td>\n",
       "      <td>555</td>\n",
       "      <td>28.0</td>\n",
       "      <td>5.5</td>\n",
       "    </tr>\n",
       "    <tr>\n",
       "      <th>3</th>\n",
       "      <td>2016</td>\n",
       "      <td>61948</td>\n",
       "      <td>Automatic</td>\n",
       "      <td>16000</td>\n",
       "      <td>325</td>\n",
       "      <td>30.4</td>\n",
       "      <td>4.0</td>\n",
       "    </tr>\n",
       "    <tr>\n",
       "      <th>4</th>\n",
       "      <td>2016</td>\n",
       "      <td>73948</td>\n",
       "      <td>Automatic</td>\n",
       "      <td>4000</td>\n",
       "      <td>325</td>\n",
       "      <td>30.1</td>\n",
       "      <td>4.0</td>\n",
       "    </tr>\n",
       "  </tbody>\n",
       "</table>\n",
       "</div>"
      ],
      "text/plain": [
       "   year  price transmission  mileage  tax   mpg  engineSize\n",
       "0  2005   5200    Automatic    63000  325  32.1         1.8\n",
       "1  2017  34948    Automatic    27000   20  61.4         2.1\n",
       "2  2016  49948    Automatic     6200  555  28.0         5.5\n",
       "3  2016  61948    Automatic    16000  325  30.4         4.0\n",
       "4  2016  73948    Automatic     4000  325  30.1         4.0"
      ]
     },
     "execution_count": 7,
     "metadata": {},
     "output_type": "execute_result"
    }
   ],
   "source": [
    "dataFrame.head()"
   ]
  },
  {
   "cell_type": "markdown",
   "id": "21b0587c",
   "metadata": {},
   "source": [
    "The data set consists of 13119 rows of data and 6 different variables. Our variables are year (year), car sales price (price), car's gear type (transmission), tax amount (tax) and Engine Size (EngineSize)."
   ]
  },
  {
   "cell_type": "code",
   "execution_count": 8,
   "id": "1843237d",
   "metadata": {},
   "outputs": [
    {
     "data": {
      "text/html": [
       "<div>\n",
       "<style scoped>\n",
       "    .dataframe tbody tr th:only-of-type {\n",
       "        vertical-align: middle;\n",
       "    }\n",
       "\n",
       "    .dataframe tbody tr th {\n",
       "        vertical-align: top;\n",
       "    }\n",
       "\n",
       "    .dataframe thead th {\n",
       "        text-align: right;\n",
       "    }\n",
       "</style>\n",
       "<table border=\"1\" class=\"dataframe\">\n",
       "  <thead>\n",
       "    <tr style=\"text-align: right;\">\n",
       "      <th></th>\n",
       "      <th>year</th>\n",
       "      <th>price</th>\n",
       "      <th>transmission</th>\n",
       "      <th>mileage</th>\n",
       "      <th>tax</th>\n",
       "      <th>mpg</th>\n",
       "      <th>engineSize</th>\n",
       "    </tr>\n",
       "  </thead>\n",
       "  <tbody>\n",
       "    <tr>\n",
       "      <th>0</th>\n",
       "      <td>2005</td>\n",
       "      <td>5200</td>\n",
       "      <td>Automatic</td>\n",
       "      <td>63000</td>\n",
       "      <td>325</td>\n",
       "      <td>32.1</td>\n",
       "      <td>1.8</td>\n",
       "    </tr>\n",
       "    <tr>\n",
       "      <th>1</th>\n",
       "      <td>2017</td>\n",
       "      <td>34948</td>\n",
       "      <td>Automatic</td>\n",
       "      <td>27000</td>\n",
       "      <td>20</td>\n",
       "      <td>61.4</td>\n",
       "      <td>2.1</td>\n",
       "    </tr>\n",
       "    <tr>\n",
       "      <th>2</th>\n",
       "      <td>2016</td>\n",
       "      <td>49948</td>\n",
       "      <td>Automatic</td>\n",
       "      <td>6200</td>\n",
       "      <td>555</td>\n",
       "      <td>28.0</td>\n",
       "      <td>5.5</td>\n",
       "    </tr>\n",
       "    <tr>\n",
       "      <th>3</th>\n",
       "      <td>2016</td>\n",
       "      <td>61948</td>\n",
       "      <td>Automatic</td>\n",
       "      <td>16000</td>\n",
       "      <td>325</td>\n",
       "      <td>30.4</td>\n",
       "      <td>4.0</td>\n",
       "    </tr>\n",
       "    <tr>\n",
       "      <th>4</th>\n",
       "      <td>2016</td>\n",
       "      <td>73948</td>\n",
       "      <td>Automatic</td>\n",
       "      <td>4000</td>\n",
       "      <td>325</td>\n",
       "      <td>30.1</td>\n",
       "      <td>4.0</td>\n",
       "    </tr>\n",
       "    <tr>\n",
       "      <th>...</th>\n",
       "      <td>...</td>\n",
       "      <td>...</td>\n",
       "      <td>...</td>\n",
       "      <td>...</td>\n",
       "      <td>...</td>\n",
       "      <td>...</td>\n",
       "      <td>...</td>\n",
       "    </tr>\n",
       "    <tr>\n",
       "      <th>13114</th>\n",
       "      <td>2020</td>\n",
       "      <td>35999</td>\n",
       "      <td>Automatic</td>\n",
       "      <td>500</td>\n",
       "      <td>145</td>\n",
       "      <td>55.4</td>\n",
       "      <td>2.0</td>\n",
       "    </tr>\n",
       "    <tr>\n",
       "      <th>13115</th>\n",
       "      <td>2020</td>\n",
       "      <td>24699</td>\n",
       "      <td>Automatic</td>\n",
       "      <td>2500</td>\n",
       "      <td>145</td>\n",
       "      <td>55.4</td>\n",
       "      <td>2.0</td>\n",
       "    </tr>\n",
       "    <tr>\n",
       "      <th>13116</th>\n",
       "      <td>2019</td>\n",
       "      <td>30999</td>\n",
       "      <td>Automatic</td>\n",
       "      <td>11612</td>\n",
       "      <td>145</td>\n",
       "      <td>41.5</td>\n",
       "      <td>2.1</td>\n",
       "    </tr>\n",
       "    <tr>\n",
       "      <th>13117</th>\n",
       "      <td>2019</td>\n",
       "      <td>37990</td>\n",
       "      <td>Automatic</td>\n",
       "      <td>2426</td>\n",
       "      <td>145</td>\n",
       "      <td>45.6</td>\n",
       "      <td>2.0</td>\n",
       "    </tr>\n",
       "    <tr>\n",
       "      <th>13118</th>\n",
       "      <td>2019</td>\n",
       "      <td>54999</td>\n",
       "      <td>Automatic</td>\n",
       "      <td>2075</td>\n",
       "      <td>145</td>\n",
       "      <td>52.3</td>\n",
       "      <td>2.9</td>\n",
       "    </tr>\n",
       "  </tbody>\n",
       "</table>\n",
       "<p>13119 rows × 7 columns</p>\n",
       "</div>"
      ],
      "text/plain": [
       "       year  price transmission  mileage  tax   mpg  engineSize\n",
       "0      2005   5200    Automatic    63000  325  32.1         1.8\n",
       "1      2017  34948    Automatic    27000   20  61.4         2.1\n",
       "2      2016  49948    Automatic     6200  555  28.0         5.5\n",
       "3      2016  61948    Automatic    16000  325  30.4         4.0\n",
       "4      2016  73948    Automatic     4000  325  30.1         4.0\n",
       "...     ...    ...          ...      ...  ...   ...         ...\n",
       "13114  2020  35999    Automatic      500  145  55.4         2.0\n",
       "13115  2020  24699    Automatic     2500  145  55.4         2.0\n",
       "13116  2019  30999    Automatic    11612  145  41.5         2.1\n",
       "13117  2019  37990    Automatic     2426  145  45.6         2.0\n",
       "13118  2019  54999    Automatic     2075  145  52.3         2.9\n",
       "\n",
       "[13119 rows x 7 columns]"
      ]
     },
     "execution_count": 8,
     "metadata": {},
     "output_type": "execute_result"
    }
   ],
   "source": [
    "dataFrame"
   ]
  },
  {
   "cell_type": "markdown",
   "id": "a112886e",
   "metadata": {},
   "source": [
    "## Make Sense of Data"
   ]
  },
  {
   "cell_type": "code",
   "execution_count": 9,
   "id": "e404fab2",
   "metadata": {},
   "outputs": [
    {
     "data": {
      "text/html": [
       "<div>\n",
       "<style scoped>\n",
       "    .dataframe tbody tr th:only-of-type {\n",
       "        vertical-align: middle;\n",
       "    }\n",
       "\n",
       "    .dataframe tbody tr th {\n",
       "        vertical-align: top;\n",
       "    }\n",
       "\n",
       "    .dataframe thead th {\n",
       "        text-align: right;\n",
       "    }\n",
       "</style>\n",
       "<table border=\"1\" class=\"dataframe\">\n",
       "  <thead>\n",
       "    <tr style=\"text-align: right;\">\n",
       "      <th></th>\n",
       "      <th>year</th>\n",
       "      <th>price</th>\n",
       "      <th>mileage</th>\n",
       "      <th>tax</th>\n",
       "      <th>mpg</th>\n",
       "      <th>engineSize</th>\n",
       "    </tr>\n",
       "  </thead>\n",
       "  <tbody>\n",
       "    <tr>\n",
       "      <th>count</th>\n",
       "      <td>13119.000000</td>\n",
       "      <td>13119.000000</td>\n",
       "      <td>13119.000000</td>\n",
       "      <td>13119.000000</td>\n",
       "      <td>13119.000000</td>\n",
       "      <td>13119.000000</td>\n",
       "    </tr>\n",
       "    <tr>\n",
       "      <th>mean</th>\n",
       "      <td>2017.296288</td>\n",
       "      <td>24698.596920</td>\n",
       "      <td>21949.559037</td>\n",
       "      <td>129.972178</td>\n",
       "      <td>55.155843</td>\n",
       "      <td>2.071530</td>\n",
       "    </tr>\n",
       "    <tr>\n",
       "      <th>std</th>\n",
       "      <td>2.224709</td>\n",
       "      <td>11842.675542</td>\n",
       "      <td>21176.512267</td>\n",
       "      <td>65.260286</td>\n",
       "      <td>15.220082</td>\n",
       "      <td>0.572426</td>\n",
       "    </tr>\n",
       "    <tr>\n",
       "      <th>min</th>\n",
       "      <td>1970.000000</td>\n",
       "      <td>650.000000</td>\n",
       "      <td>1.000000</td>\n",
       "      <td>0.000000</td>\n",
       "      <td>1.100000</td>\n",
       "      <td>0.000000</td>\n",
       "    </tr>\n",
       "    <tr>\n",
       "      <th>25%</th>\n",
       "      <td>2016.000000</td>\n",
       "      <td>17450.000000</td>\n",
       "      <td>6097.500000</td>\n",
       "      <td>125.000000</td>\n",
       "      <td>45.600000</td>\n",
       "      <td>1.800000</td>\n",
       "    </tr>\n",
       "    <tr>\n",
       "      <th>50%</th>\n",
       "      <td>2018.000000</td>\n",
       "      <td>22480.000000</td>\n",
       "      <td>15189.000000</td>\n",
       "      <td>145.000000</td>\n",
       "      <td>56.500000</td>\n",
       "      <td>2.000000</td>\n",
       "    </tr>\n",
       "    <tr>\n",
       "      <th>75%</th>\n",
       "      <td>2019.000000</td>\n",
       "      <td>28980.000000</td>\n",
       "      <td>31779.500000</td>\n",
       "      <td>145.000000</td>\n",
       "      <td>64.200000</td>\n",
       "      <td>2.100000</td>\n",
       "    </tr>\n",
       "    <tr>\n",
       "      <th>max</th>\n",
       "      <td>2020.000000</td>\n",
       "      <td>159999.000000</td>\n",
       "      <td>259000.000000</td>\n",
       "      <td>580.000000</td>\n",
       "      <td>217.300000</td>\n",
       "      <td>6.200000</td>\n",
       "    </tr>\n",
       "  </tbody>\n",
       "</table>\n",
       "</div>"
      ],
      "text/plain": [
       "               year          price        mileage           tax           mpg  \\\n",
       "count  13119.000000   13119.000000   13119.000000  13119.000000  13119.000000   \n",
       "mean    2017.296288   24698.596920   21949.559037    129.972178     55.155843   \n",
       "std        2.224709   11842.675542   21176.512267     65.260286     15.220082   \n",
       "min     1970.000000     650.000000       1.000000      0.000000      1.100000   \n",
       "25%     2016.000000   17450.000000    6097.500000    125.000000     45.600000   \n",
       "50%     2018.000000   22480.000000   15189.000000    145.000000     56.500000   \n",
       "75%     2019.000000   28980.000000   31779.500000    145.000000     64.200000   \n",
       "max     2020.000000  159999.000000  259000.000000    580.000000    217.300000   \n",
       "\n",
       "         engineSize  \n",
       "count  13119.000000  \n",
       "mean       2.071530  \n",
       "std        0.572426  \n",
       "min        0.000000  \n",
       "25%        1.800000  \n",
       "50%        2.000000  \n",
       "75%        2.100000  \n",
       "max        6.200000  "
      ]
     },
     "execution_count": 9,
     "metadata": {},
     "output_type": "execute_result"
    }
   ],
   "source": [
    "dataFrame.describe()"
   ]
  },
  {
   "cell_type": "markdown",
   "id": "0daa93eb",
   "metadata": {},
   "source": [
    "We check for missing data in the Dataset and none of the variables appear to have missing data."
   ]
  },
  {
   "cell_type": "code",
   "execution_count": 10,
   "id": "4ffc0e85",
   "metadata": {},
   "outputs": [
    {
     "data": {
      "text/plain": [
       "year            0\n",
       "price           0\n",
       "transmission    0\n",
       "mileage         0\n",
       "tax             0\n",
       "mpg             0\n",
       "engineSize      0\n",
       "dtype: int64"
      ]
     },
     "execution_count": 10,
     "metadata": {},
     "output_type": "execute_result"
    }
   ],
   "source": [
    "dataFrame.isnull().sum()"
   ]
  },
  {
   "cell_type": "markdown",
   "id": "da479888",
   "metadata": {},
   "source": [
    "### Graphical Inferences"
   ]
  },
  {
   "cell_type": "markdown",
   "id": "81e26238",
   "metadata": {},
   "source": [
    "Charts provide important clues in our data approach. We examine the graph of the variable of car prices that we are going to predict. When vehicle prices are examined, there are residual data that may cause deviations in the range of 75,000-150,000 TL. These values may cause deviations in our estimates.."
   ]
  },
  {
   "cell_type": "code",
   "execution_count": 13,
   "id": "c97af2b2",
   "metadata": {},
   "outputs": [
    {
     "data": {
      "text/plain": [
       "<AxesSubplot:xlabel='price', ylabel='Density'>"
      ]
     },
     "execution_count": 13,
     "metadata": {},
     "output_type": "execute_result"
    },
    {
     "data": {
      "image/png": "[encoded data removed]",
      "text/plain": [
       "<Figure size 640x480 with 1 Axes>"
      ]
     },
     "metadata": {},
     "output_type": "display_data"
    }
   ],
   "source": [
    "sbn.distplot(dataFrame[\"price\"])\n"
   ]
  },
  {
   "cell_type": "markdown",
   "id": "99659a67",
   "metadata": {},
   "source": [
    "Looking at the distribution of automobiles by years, it is seen that most of the automobile data belong to 2019."
   ]
  },
  {
   "cell_type": "code",
   "execution_count": 16,
   "id": "988b9827",
   "metadata": {},
   "outputs": [
    {
     "data": {
      "text/plain": [
       "<AxesSubplot:xlabel='year', ylabel='count'>"
      ]
     },
     "execution_count": 16,
     "metadata": {},
     "output_type": "execute_result"
    },
    {
     "data": {
      "image/png": "[encoded data removed]",
      "text/plain": [
       "<Figure size 1300x500 with 1 Axes>"
      ]
     },
     "metadata": {},
     "output_type": "display_data"
    }
   ],
   "source": [
    "plt.figure(figsize=(13,5))\n",
    "\n",
    "sbn.countplot(dataFrame[\"year\"])\n"
   ]
  },
  {
   "cell_type": "markdown",
   "id": "e8f3147a",
   "metadata": {},
   "source": [
    "### Relationships Between Variables"
   ]
  },
  {
   "cell_type": "markdown",
   "id": "e99fe597",
   "metadata": {},
   "source": [
    "The relations of the variables with each other are given."
   ]
  },
  {
   "cell_type": "code",
   "execution_count": 20,
   "id": "4711f9cd",
   "metadata": {},
   "outputs": [
    {
     "data": {
      "text/html": [
       "<div>\n",
       "<style scoped>\n",
       "    .dataframe tbody tr th:only-of-type {\n",
       "        vertical-align: middle;\n",
       "    }\n",
       "\n",
       "    .dataframe tbody tr th {\n",
       "        vertical-align: top;\n",
       "    }\n",
       "\n",
       "    .dataframe thead th {\n",
       "        text-align: right;\n",
       "    }\n",
       "</style>\n",
       "<table border=\"1\" class=\"dataframe\">\n",
       "  <thead>\n",
       "    <tr style=\"text-align: right;\">\n",
       "      <th></th>\n",
       "      <th>year</th>\n",
       "      <th>price</th>\n",
       "      <th>mileage</th>\n",
       "      <th>tax</th>\n",
       "      <th>mpg</th>\n",
       "      <th>engineSize</th>\n",
       "    </tr>\n",
       "  </thead>\n",
       "  <tbody>\n",
       "    <tr>\n",
       "      <th>year</th>\n",
       "      <td>1.000000</td>\n",
       "      <td>0.520712</td>\n",
       "      <td>-0.738027</td>\n",
       "      <td>0.012480</td>\n",
       "      <td>-0.094626</td>\n",
       "      <td>-0.142147</td>\n",
       "    </tr>\n",
       "    <tr>\n",
       "      <th>price</th>\n",
       "      <td>0.520712</td>\n",
       "      <td>1.000000</td>\n",
       "      <td>-0.537214</td>\n",
       "      <td>0.268717</td>\n",
       "      <td>-0.438445</td>\n",
       "      <td>0.516126</td>\n",
       "    </tr>\n",
       "    <tr>\n",
       "      <th>mileage</th>\n",
       "      <td>-0.738027</td>\n",
       "      <td>-0.537214</td>\n",
       "      <td>1.000000</td>\n",
       "      <td>-0.160223</td>\n",
       "      <td>0.202850</td>\n",
       "      <td>0.063652</td>\n",
       "    </tr>\n",
       "    <tr>\n",
       "      <th>tax</th>\n",
       "      <td>0.012480</td>\n",
       "      <td>0.268717</td>\n",
       "      <td>-0.160223</td>\n",
       "      <td>1.000000</td>\n",
       "      <td>-0.513742</td>\n",
       "      <td>0.338341</td>\n",
       "    </tr>\n",
       "    <tr>\n",
       "      <th>mpg</th>\n",
       "      <td>-0.094626</td>\n",
       "      <td>-0.438445</td>\n",
       "      <td>0.202850</td>\n",
       "      <td>-0.513742</td>\n",
       "      <td>1.000000</td>\n",
       "      <td>-0.339862</td>\n",
       "    </tr>\n",
       "    <tr>\n",
       "      <th>engineSize</th>\n",
       "      <td>-0.142147</td>\n",
       "      <td>0.516126</td>\n",
       "      <td>0.063652</td>\n",
       "      <td>0.338341</td>\n",
       "      <td>-0.339862</td>\n",
       "      <td>1.000000</td>\n",
       "    </tr>\n",
       "  </tbody>\n",
       "</table>\n",
       "</div>"
      ],
      "text/plain": [
       "                year     price   mileage       tax       mpg  engineSize\n",
       "year        1.000000  0.520712 -0.738027  0.012480 -0.094626   -0.142147\n",
       "price       0.520712  1.000000 -0.537214  0.268717 -0.438445    0.516126\n",
       "mileage    -0.738027 -0.537214  1.000000 -0.160223  0.202850    0.063652\n",
       "tax         0.012480  0.268717 -0.160223  1.000000 -0.513742    0.338341\n",
       "mpg        -0.094626 -0.438445  0.202850 -0.513742  1.000000   -0.339862\n",
       "engineSize -0.142147  0.516126  0.063652  0.338341 -0.339862    1.000000"
      ]
     },
     "execution_count": 20,
     "metadata": {},
     "output_type": "execute_result"
    }
   ],
   "source": [
    "dataFrame.corr()"
   ]
  },
  {
   "cell_type": "markdown",
   "id": "000222bc",
   "metadata": {},
   "source": [
    "When we examined the relationship between automobile prices, which is our dependent variable, and other variables in our model, it was seen that there was a positive correlation with the year and engine power. In other words, the prices of cars increase as the year they are produced and the engine power increases. Another noteworthy inference was the tax rate. The higher the tax rate, the higher the price. As car mileage and fuel consumption increase, car prices decrease."
   ]
  },
  {
   "cell_type": "code",
   "execution_count": 21,
   "id": "476478a7",
   "metadata": {},
   "outputs": [
    {
     "data": {
      "text/plain": [
       "mileage      -0.537214\n",
       "mpg          -0.438445\n",
       "tax           0.268717\n",
       "engineSize    0.516126\n",
       "year          0.520712\n",
       "price         1.000000\n",
       "Name: price, dtype: float64"
      ]
     },
     "execution_count": 21,
     "metadata": {},
     "output_type": "execute_result"
    }
   ],
   "source": [
    "dataFrame.corr()[\"price\"].sort_values()"
   ]
  },
  {
   "cell_type": "code",
   "execution_count": 22,
   "id": "b48d3a22",
   "metadata": {},
   "outputs": [
    {
     "data": {
      "text/plain": [
       "<AxesSubplot:xlabel='mileage', ylabel='price'>"
      ]
     },
     "execution_count": 22,
     "metadata": {},
     "output_type": "execute_result"
    },
    {
     "data": {
      "image/png": "[encoded data removed]",
      "text/plain": [
       "<Figure size 640x480 with 1 Axes>"
      ]
     },
     "metadata": {},
     "output_type": "display_data"
    }
   ],
   "source": [
    "sbn.scatterplot(x=\"mileage\",y=\"price\",data=dataFrame)"
   ]
  },
  {
   "cell_type": "code",
   "execution_count": 23,
   "id": "0bc7143e",
   "metadata": {},
   "outputs": [
    {
     "data": {
      "text/html": [
       "<div>\n",
       "<style scoped>\n",
       "    .dataframe tbody tr th:only-of-type {\n",
       "        vertical-align: middle;\n",
       "    }\n",
       "\n",
       "    .dataframe tbody tr th {\n",
       "        vertical-align: top;\n",
       "    }\n",
       "\n",
       "    .dataframe thead th {\n",
       "        text-align: right;\n",
       "    }\n",
       "</style>\n",
       "<table border=\"1\" class=\"dataframe\">\n",
       "  <thead>\n",
       "    <tr style=\"text-align: right;\">\n",
       "      <th></th>\n",
       "      <th>year</th>\n",
       "      <th>price</th>\n",
       "      <th>transmission</th>\n",
       "      <th>mileage</th>\n",
       "      <th>tax</th>\n",
       "      <th>mpg</th>\n",
       "      <th>engineSize</th>\n",
       "    </tr>\n",
       "  </thead>\n",
       "  <tbody>\n",
       "    <tr>\n",
       "      <th>6199</th>\n",
       "      <td>2020</td>\n",
       "      <td>159999</td>\n",
       "      <td>Semi-Auto</td>\n",
       "      <td>1350</td>\n",
       "      <td>145</td>\n",
       "      <td>21.4</td>\n",
       "      <td>4.0</td>\n",
       "    </tr>\n",
       "    <tr>\n",
       "      <th>10044</th>\n",
       "      <td>2020</td>\n",
       "      <td>154998</td>\n",
       "      <td>Automatic</td>\n",
       "      <td>3000</td>\n",
       "      <td>150</td>\n",
       "      <td>21.4</td>\n",
       "      <td>4.0</td>\n",
       "    </tr>\n",
       "    <tr>\n",
       "      <th>5</th>\n",
       "      <td>2011</td>\n",
       "      <td>149948</td>\n",
       "      <td>Automatic</td>\n",
       "      <td>3000</td>\n",
       "      <td>570</td>\n",
       "      <td>21.4</td>\n",
       "      <td>6.2</td>\n",
       "    </tr>\n",
       "    <tr>\n",
       "      <th>8737</th>\n",
       "      <td>2019</td>\n",
       "      <td>140319</td>\n",
       "      <td>Semi-Auto</td>\n",
       "      <td>785</td>\n",
       "      <td>150</td>\n",
       "      <td>22.1</td>\n",
       "      <td>4.0</td>\n",
       "    </tr>\n",
       "    <tr>\n",
       "      <th>6386</th>\n",
       "      <td>2018</td>\n",
       "      <td>139995</td>\n",
       "      <td>Semi-Auto</td>\n",
       "      <td>13046</td>\n",
       "      <td>145</td>\n",
       "      <td>21.4</td>\n",
       "      <td>4.0</td>\n",
       "    </tr>\n",
       "    <tr>\n",
       "      <th>8</th>\n",
       "      <td>2019</td>\n",
       "      <td>139948</td>\n",
       "      <td>Automatic</td>\n",
       "      <td>12000</td>\n",
       "      <td>145</td>\n",
       "      <td>21.4</td>\n",
       "      <td>4.0</td>\n",
       "    </tr>\n",
       "    <tr>\n",
       "      <th>9133</th>\n",
       "      <td>2019</td>\n",
       "      <td>139559</td>\n",
       "      <td>Semi-Auto</td>\n",
       "      <td>1000</td>\n",
       "      <td>145</td>\n",
       "      <td>22.1</td>\n",
       "      <td>4.0</td>\n",
       "    </tr>\n",
       "    <tr>\n",
       "      <th>8821</th>\n",
       "      <td>2020</td>\n",
       "      <td>138439</td>\n",
       "      <td>Semi-Auto</td>\n",
       "      <td>1000</td>\n",
       "      <td>145</td>\n",
       "      <td>22.1</td>\n",
       "      <td>4.0</td>\n",
       "    </tr>\n",
       "    <tr>\n",
       "      <th>5902</th>\n",
       "      <td>2018</td>\n",
       "      <td>135771</td>\n",
       "      <td>Semi-Auto</td>\n",
       "      <td>19000</td>\n",
       "      <td>145</td>\n",
       "      <td>21.4</td>\n",
       "      <td>4.0</td>\n",
       "    </tr>\n",
       "    <tr>\n",
       "      <th>7864</th>\n",
       "      <td>2018</td>\n",
       "      <td>135124</td>\n",
       "      <td>Semi-Auto</td>\n",
       "      <td>18234</td>\n",
       "      <td>150</td>\n",
       "      <td>21.4</td>\n",
       "      <td>4.0</td>\n",
       "    </tr>\n",
       "    <tr>\n",
       "      <th>8673</th>\n",
       "      <td>2019</td>\n",
       "      <td>134219</td>\n",
       "      <td>Semi-Auto</td>\n",
       "      <td>1000</td>\n",
       "      <td>145</td>\n",
       "      <td>24.8</td>\n",
       "      <td>4.0</td>\n",
       "    </tr>\n",
       "    <tr>\n",
       "      <th>6210</th>\n",
       "      <td>2019</td>\n",
       "      <td>129990</td>\n",
       "      <td>Automatic</td>\n",
       "      <td>1000</td>\n",
       "      <td>145</td>\n",
       "      <td>24.8</td>\n",
       "      <td>4.0</td>\n",
       "    </tr>\n",
       "    <tr>\n",
       "      <th>4759</th>\n",
       "      <td>2019</td>\n",
       "      <td>126000</td>\n",
       "      <td>Automatic</td>\n",
       "      <td>250</td>\n",
       "      <td>145</td>\n",
       "      <td>24.6</td>\n",
       "      <td>4.0</td>\n",
       "    </tr>\n",
       "    <tr>\n",
       "      <th>2647</th>\n",
       "      <td>2019</td>\n",
       "      <td>125796</td>\n",
       "      <td>Automatic</td>\n",
       "      <td>637</td>\n",
       "      <td>145</td>\n",
       "      <td>24.8</td>\n",
       "      <td>4.0</td>\n",
       "    </tr>\n",
       "    <tr>\n",
       "      <th>6223</th>\n",
       "      <td>2019</td>\n",
       "      <td>124999</td>\n",
       "      <td>Automatic</td>\n",
       "      <td>1500</td>\n",
       "      <td>145</td>\n",
       "      <td>31.7</td>\n",
       "      <td>4.0</td>\n",
       "    </tr>\n",
       "    <tr>\n",
       "      <th>4094</th>\n",
       "      <td>2019</td>\n",
       "      <td>124366</td>\n",
       "      <td>Semi-Auto</td>\n",
       "      <td>880</td>\n",
       "      <td>145</td>\n",
       "      <td>24.8</td>\n",
       "      <td>4.0</td>\n",
       "    </tr>\n",
       "    <tr>\n",
       "      <th>2629</th>\n",
       "      <td>2019</td>\n",
       "      <td>123846</td>\n",
       "      <td>Semi-Auto</td>\n",
       "      <td>2951</td>\n",
       "      <td>145</td>\n",
       "      <td>22.1</td>\n",
       "      <td>4.0</td>\n",
       "    </tr>\n",
       "    <tr>\n",
       "      <th>7134</th>\n",
       "      <td>2019</td>\n",
       "      <td>115359</td>\n",
       "      <td>Semi-Auto</td>\n",
       "      <td>1000</td>\n",
       "      <td>145</td>\n",
       "      <td>30.1</td>\n",
       "      <td>4.0</td>\n",
       "    </tr>\n",
       "    <tr>\n",
       "      <th>9159</th>\n",
       "      <td>2019</td>\n",
       "      <td>114199</td>\n",
       "      <td>Semi-Auto</td>\n",
       "      <td>891</td>\n",
       "      <td>145</td>\n",
       "      <td>22.6</td>\n",
       "      <td>4.0</td>\n",
       "    </tr>\n",
       "    <tr>\n",
       "      <th>1980</th>\n",
       "      <td>2019</td>\n",
       "      <td>109995</td>\n",
       "      <td>Semi-Auto</td>\n",
       "      <td>4688</td>\n",
       "      <td>150</td>\n",
       "      <td>31.7</td>\n",
       "      <td>4.0</td>\n",
       "    </tr>\n",
       "  </tbody>\n",
       "</table>\n",
       "</div>"
      ],
      "text/plain": [
       "       year   price transmission  mileage  tax   mpg  engineSize\n",
       "6199   2020  159999    Semi-Auto     1350  145  21.4         4.0\n",
       "10044  2020  154998    Automatic     3000  150  21.4         4.0\n",
       "5      2011  149948    Automatic     3000  570  21.4         6.2\n",
       "8737   2019  140319    Semi-Auto      785  150  22.1         4.0\n",
       "6386   2018  139995    Semi-Auto    13046  145  21.4         4.0\n",
       "8      2019  139948    Automatic    12000  145  21.4         4.0\n",
       "9133   2019  139559    Semi-Auto     1000  145  22.1         4.0\n",
       "8821   2020  138439    Semi-Auto     1000  145  22.1         4.0\n",
       "5902   2018  135771    Semi-Auto    19000  145  21.4         4.0\n",
       "7864   2018  135124    Semi-Auto    18234  150  21.4         4.0\n",
       "8673   2019  134219    Semi-Auto     1000  145  24.8         4.0\n",
       "6210   2019  129990    Automatic     1000  145  24.8         4.0\n",
       "4759   2019  126000    Automatic      250  145  24.6         4.0\n",
       "2647   2019  125796    Automatic      637  145  24.8         4.0\n",
       "6223   2019  124999    Automatic     1500  145  31.7         4.0\n",
       "4094   2019  124366    Semi-Auto      880  145  24.8         4.0\n",
       "2629   2019  123846    Semi-Auto     2951  145  22.1         4.0\n",
       "7134   2019  115359    Semi-Auto     1000  145  30.1         4.0\n",
       "9159   2019  114199    Semi-Auto      891  145  22.6         4.0\n",
       "1980   2019  109995    Semi-Auto     4688  150  31.7         4.0"
      ]
     },
     "execution_count": 23,
     "metadata": {},
     "output_type": "execute_result"
    }
   ],
   "source": [
    "dataFrame.sort_values(\"price\",ascending= False).head(20)"
   ]
  },
  {
   "cell_type": "code",
   "execution_count": 24,
   "id": "7f850a13",
   "metadata": {},
   "outputs": [
    {
     "data": {
      "text/html": [
       "<div>\n",
       "<style scoped>\n",
       "    .dataframe tbody tr th:only-of-type {\n",
       "        vertical-align: middle;\n",
       "    }\n",
       "\n",
       "    .dataframe tbody tr th {\n",
       "        vertical-align: top;\n",
       "    }\n",
       "\n",
       "    .dataframe thead th {\n",
       "        text-align: right;\n",
       "    }\n",
       "</style>\n",
       "<table border=\"1\" class=\"dataframe\">\n",
       "  <thead>\n",
       "    <tr style=\"text-align: right;\">\n",
       "      <th></th>\n",
       "      <th>year</th>\n",
       "      <th>price</th>\n",
       "      <th>transmission</th>\n",
       "      <th>mileage</th>\n",
       "      <th>tax</th>\n",
       "      <th>mpg</th>\n",
       "      <th>engineSize</th>\n",
       "    </tr>\n",
       "  </thead>\n",
       "  <tbody>\n",
       "    <tr>\n",
       "      <th>11816</th>\n",
       "      <td>2003</td>\n",
       "      <td>650</td>\n",
       "      <td>Manual</td>\n",
       "      <td>109090</td>\n",
       "      <td>235</td>\n",
       "      <td>40.0</td>\n",
       "      <td>1.4</td>\n",
       "    </tr>\n",
       "    <tr>\n",
       "      <th>12008</th>\n",
       "      <td>2010</td>\n",
       "      <td>1350</td>\n",
       "      <td>Manual</td>\n",
       "      <td>116126</td>\n",
       "      <td>145</td>\n",
       "      <td>54.3</td>\n",
       "      <td>2.0</td>\n",
       "    </tr>\n",
       "    <tr>\n",
       "      <th>11765</th>\n",
       "      <td>2000</td>\n",
       "      <td>1490</td>\n",
       "      <td>Automatic</td>\n",
       "      <td>87000</td>\n",
       "      <td>265</td>\n",
       "      <td>27.2</td>\n",
       "      <td>3.2</td>\n",
       "    </tr>\n",
       "    <tr>\n",
       "      <th>11549</th>\n",
       "      <td>2002</td>\n",
       "      <td>1495</td>\n",
       "      <td>Automatic</td>\n",
       "      <td>13800</td>\n",
       "      <td>305</td>\n",
       "      <td>39.8</td>\n",
       "      <td>2.7</td>\n",
       "    </tr>\n",
       "    <tr>\n",
       "      <th>12594</th>\n",
       "      <td>2004</td>\n",
       "      <td>1495</td>\n",
       "      <td>Manual</td>\n",
       "      <td>119000</td>\n",
       "      <td>300</td>\n",
       "      <td>34.5</td>\n",
       "      <td>1.8</td>\n",
       "    </tr>\n",
       "    <tr>\n",
       "      <th>11174</th>\n",
       "      <td>2001</td>\n",
       "      <td>1695</td>\n",
       "      <td>Automatic</td>\n",
       "      <td>108800</td>\n",
       "      <td>325</td>\n",
       "      <td>31.7</td>\n",
       "      <td>3.2</td>\n",
       "    </tr>\n",
       "    <tr>\n",
       "      <th>12710</th>\n",
       "      <td>2006</td>\n",
       "      <td>1695</td>\n",
       "      <td>Automatic</td>\n",
       "      <td>153000</td>\n",
       "      <td>300</td>\n",
       "      <td>33.6</td>\n",
       "      <td>1.8</td>\n",
       "    </tr>\n",
       "    <tr>\n",
       "      <th>12766</th>\n",
       "      <td>2004</td>\n",
       "      <td>1780</td>\n",
       "      <td>Automatic</td>\n",
       "      <td>118000</td>\n",
       "      <td>265</td>\n",
       "      <td>41.5</td>\n",
       "      <td>2.2</td>\n",
       "    </tr>\n",
       "    <tr>\n",
       "      <th>12009</th>\n",
       "      <td>2007</td>\n",
       "      <td>1800</td>\n",
       "      <td>Automatic</td>\n",
       "      <td>84000</td>\n",
       "      <td>200</td>\n",
       "      <td>42.8</td>\n",
       "      <td>1.5</td>\n",
       "    </tr>\n",
       "    <tr>\n",
       "      <th>11764</th>\n",
       "      <td>1998</td>\n",
       "      <td>1990</td>\n",
       "      <td>Automatic</td>\n",
       "      <td>99300</td>\n",
       "      <td>265</td>\n",
       "      <td>32.1</td>\n",
       "      <td>2.3</td>\n",
       "    </tr>\n",
       "    <tr>\n",
       "      <th>11808</th>\n",
       "      <td>1998</td>\n",
       "      <td>1990</td>\n",
       "      <td>Automatic</td>\n",
       "      <td>113557</td>\n",
       "      <td>265</td>\n",
       "      <td>32.1</td>\n",
       "      <td>2.3</td>\n",
       "    </tr>\n",
       "    <tr>\n",
       "      <th>11383</th>\n",
       "      <td>2005</td>\n",
       "      <td>1995</td>\n",
       "      <td>Automatic</td>\n",
       "      <td>105000</td>\n",
       "      <td>260</td>\n",
       "      <td>43.5</td>\n",
       "      <td>2.1</td>\n",
       "    </tr>\n",
       "    <tr>\n",
       "      <th>11378</th>\n",
       "      <td>2004</td>\n",
       "      <td>1995</td>\n",
       "      <td>Semi-Auto</td>\n",
       "      <td>165000</td>\n",
       "      <td>330</td>\n",
       "      <td>20.0</td>\n",
       "      <td>3.7</td>\n",
       "    </tr>\n",
       "    <tr>\n",
       "      <th>11857</th>\n",
       "      <td>2002</td>\n",
       "      <td>2140</td>\n",
       "      <td>Automatic</td>\n",
       "      <td>52700</td>\n",
       "      <td>325</td>\n",
       "      <td>31.4</td>\n",
       "      <td>2.0</td>\n",
       "    </tr>\n",
       "    <tr>\n",
       "      <th>11906</th>\n",
       "      <td>2007</td>\n",
       "      <td>2478</td>\n",
       "      <td>Automatic</td>\n",
       "      <td>81000</td>\n",
       "      <td>160</td>\n",
       "      <td>49.6</td>\n",
       "      <td>2.0</td>\n",
       "    </tr>\n",
       "    <tr>\n",
       "      <th>11795</th>\n",
       "      <td>2005</td>\n",
       "      <td>2490</td>\n",
       "      <td>Automatic</td>\n",
       "      <td>101980</td>\n",
       "      <td>200</td>\n",
       "      <td>47.9</td>\n",
       "      <td>2.0</td>\n",
       "    </tr>\n",
       "    <tr>\n",
       "      <th>12765</th>\n",
       "      <td>2004</td>\n",
       "      <td>2495</td>\n",
       "      <td>Automatic</td>\n",
       "      <td>104000</td>\n",
       "      <td>325</td>\n",
       "      <td>31.7</td>\n",
       "      <td>1.8</td>\n",
       "    </tr>\n",
       "    <tr>\n",
       "      <th>11943</th>\n",
       "      <td>2005</td>\n",
       "      <td>2690</td>\n",
       "      <td>Automatic</td>\n",
       "      <td>109000</td>\n",
       "      <td>325</td>\n",
       "      <td>32.1</td>\n",
       "      <td>1.8</td>\n",
       "    </tr>\n",
       "    <tr>\n",
       "      <th>11263</th>\n",
       "      <td>2007</td>\n",
       "      <td>2795</td>\n",
       "      <td>Manual</td>\n",
       "      <td>79485</td>\n",
       "      <td>200</td>\n",
       "      <td>45.6</td>\n",
       "      <td>1.5</td>\n",
       "    </tr>\n",
       "    <tr>\n",
       "      <th>49</th>\n",
       "      <td>2006</td>\n",
       "      <td>2880</td>\n",
       "      <td>Automatic</td>\n",
       "      <td>66000</td>\n",
       "      <td>160</td>\n",
       "      <td>52.3</td>\n",
       "      <td>2.0</td>\n",
       "    </tr>\n",
       "  </tbody>\n",
       "</table>\n",
       "</div>"
      ],
      "text/plain": [
       "       year  price transmission  mileage  tax   mpg  engineSize\n",
       "11816  2003    650       Manual   109090  235  40.0         1.4\n",
       "12008  2010   1350       Manual   116126  145  54.3         2.0\n",
       "11765  2000   1490    Automatic    87000  265  27.2         3.2\n",
       "11549  2002   1495    Automatic    13800  305  39.8         2.7\n",
       "12594  2004   1495       Manual   119000  300  34.5         1.8\n",
       "11174  2001   1695    Automatic   108800  325  31.7         3.2\n",
       "12710  2006   1695    Automatic   153000  300  33.6         1.8\n",
       "12766  2004   1780    Automatic   118000  265  41.5         2.2\n",
       "12009  2007   1800    Automatic    84000  200  42.8         1.5\n",
       "11764  1998   1990    Automatic    99300  265  32.1         2.3\n",
       "11808  1998   1990    Automatic   113557  265  32.1         2.3\n",
       "11383  2005   1995    Automatic   105000  260  43.5         2.1\n",
       "11378  2004   1995    Semi-Auto   165000  330  20.0         3.7\n",
       "11857  2002   2140    Automatic    52700  325  31.4         2.0\n",
       "11906  2007   2478    Automatic    81000  160  49.6         2.0\n",
       "11795  2005   2490    Automatic   101980  200  47.9         2.0\n",
       "12765  2004   2495    Automatic   104000  325  31.7         1.8\n",
       "11943  2005   2690    Automatic   109000  325  32.1         1.8\n",
       "11263  2007   2795       Manual    79485  200  45.6         1.5\n",
       "49     2006   2880    Automatic    66000  160  52.3         2.0"
      ]
     },
     "execution_count": 24,
     "metadata": {},
     "output_type": "execute_result"
    }
   ],
   "source": [
    "dataFrame.sort_values(\"price\",ascending= True).head(20)"
   ]
  },
  {
   "cell_type": "code",
   "execution_count": 25,
   "id": "dcf40d4a",
   "metadata": {},
   "outputs": [
    {
     "data": {
      "text/plain": [
       "13119"
      ]
     },
     "execution_count": 25,
     "metadata": {},
     "output_type": "execute_result"
    }
   ],
   "source": [
    "len(dataFrame)"
   ]
  },
  {
   "cell_type": "code",
   "execution_count": 27,
   "id": "cfe2336b",
   "metadata": {},
   "outputs": [
    {
     "data": {
      "text/plain": [
       "131.19"
      ]
     },
     "execution_count": 27,
     "metadata": {},
     "output_type": "execute_result"
    }
   ],
   "source": [
    "len(dataFrame)*0.01"
   ]
  },
  {
   "cell_type": "markdown",
   "id": "1b4a3105",
   "metadata": {},
   "source": [
    "## Data Cleaning"
   ]
  },
  {
   "cell_type": "markdown",
   "id": "b62303a1",
   "metadata": {},
   "source": [
    "We perform a 1% subtraction from the data set."
   ]
  },
  {
   "cell_type": "code",
   "execution_count": 18,
   "id": "b3eefe5c",
   "metadata": {},
   "outputs": [],
   "source": [
    "yuzdeDoksanDokuzDataFrame=dataFrame.sort_values(\"price\",ascending= False).iloc[131:]"
   ]
  },
  {
   "cell_type": "markdown",
   "id": "39c4e105",
   "metadata": {},
   "source": [
    "It is seen below that when the 1% residual of the data set is removed, the data set approaches the normal distribution."
   ]
  },
  {
   "cell_type": "code",
   "execution_count": 32,
   "id": "f89d2621",
   "metadata": {},
   "outputs": [
    {
     "data": {
      "text/plain": [
       "<seaborn.axisgrid.FacetGrid at 0x165f14f79a0>"
      ]
     },
     "execution_count": 32,
     "metadata": {},
     "output_type": "execute_result"
    },
    {
     "data": {
      "text/plain": [
       "<Figure size 700x500 with 0 Axes>"
      ]
     },
     "metadata": {},
     "output_type": "display_data"
    },
    {
     "data": {
      "image/png": "[encoded data removed]",
      "text/plain": [
       "<Figure size 500x500 with 1 Axes>"
      ]
     },
     "metadata": {},
     "output_type": "display_data"
    }
   ],
   "source": [
    "plt.figure(figsize=(7,5))\n",
    "sbn.displot(yuzdeDoksanDokuzDataFrame[\"price\"])\n"
   ]
  },
  {
   "cell_type": "markdown",
   "id": "0de19b66",
   "metadata": {},
   "source": [
    "In our data set, there is a difference in the average of the data for 1970 compared to other years. The reason for this is that a few 1970 model cars show an imbalance in price-average age matching due to special reasons (antiques, etc.)."
   ]
  },
  {
   "cell_type": "code",
   "execution_count": 33,
   "id": "ae5892d1",
   "metadata": {},
   "outputs": [
    {
     "data": {
      "text/plain": [
       "year\n",
       "1970    24999.000000\n",
       "1997     9995.000000\n",
       "1998     8605.000000\n",
       "1999     5995.000000\n",
       "2000     5743.333333\n",
       "2001     4957.900000\n",
       "2002     5820.444444\n",
       "2003     4878.000000\n",
       "2004     4727.615385\n",
       "2005     4426.111111\n",
       "2006     4036.875000\n",
       "2007     5136.045455\n",
       "2008     6967.437500\n",
       "2009     6166.764706\n",
       "2010     8308.473684\n",
       "2011    12624.894737\n",
       "2012    10845.140351\n",
       "2013    11939.842466\n",
       "2014    14042.936864\n",
       "2015    16731.780020\n",
       "2016    19307.892948\n",
       "2017    21514.307854\n",
       "2018    25720.162918\n",
       "2019    31290.020865\n",
       "2020    35433.282337\n",
       "Name: price, dtype: float64"
      ]
     },
     "execution_count": 33,
     "metadata": {},
     "output_type": "execute_result"
    }
   ],
   "source": [
    "dataFrame.groupby(\"year\").mean()[\"price\"]"
   ]
  },
  {
   "cell_type": "code",
   "execution_count": 35,
   "id": "90889dc3",
   "metadata": {},
   "outputs": [],
   "source": [
    "dataFrame=yuzdeDoksanDokuzDataFrame"
   ]
  },
  {
   "cell_type": "markdown",
   "id": "a1073e0d",
   "metadata": {},
   "source": [
    "The 1970 data were removed from the dataset to bring it to a more accurate point where it could be estimated from the dataset."
   ]
  },
  {
   "cell_type": "code",
   "execution_count": 36,
   "id": "ec0dae71",
   "metadata": {},
   "outputs": [],
   "source": [
    "dataFrame = dataFrame[dataFrame.year != 1970]"
   ]
  },
  {
   "cell_type": "markdown",
   "id": "4c519cde",
   "metadata": {},
   "source": [
    "## Model Making"
   ]
  },
  {
   "cell_type": "markdown",
   "id": "eb92c618",
   "metadata": {},
   "source": [
    "The categorical variable gear type was removed from the variable's dataset."
   ]
  },
  {
   "cell_type": "code",
   "execution_count": 21,
   "id": "ef0b9686",
   "metadata": {},
   "outputs": [],
   "source": [
    "dataFrame= dataFrame.drop(\"transmission\",axis=1)"
   ]
  },
  {
   "cell_type": "markdown",
   "id": "73781639",
   "metadata": {},
   "source": [
    "The dependent variable (price) of car prices is taken as a series."
   ]
  },
  {
   "cell_type": "code",
   "execution_count": 22,
   "id": "7b8354a9",
   "metadata": {},
   "outputs": [],
   "source": [
    "y= dataFrame[\"price\"].values"
   ]
  },
  {
   "cell_type": "markdown",
   "id": "a3dee55f",
   "metadata": {},
   "source": [
    "Other variables in the data set were taken from the series form as independent variables."
   ]
  },
  {
   "cell_type": "code",
   "execution_count": 23,
   "id": "3c638de5",
   "metadata": {},
   "outputs": [],
   "source": [
    "x= dataFrame.drop(\"price\",axis=1).values"
   ]
  },
  {
   "cell_type": "markdown",
   "id": "5bae697e",
   "metadata": {},
   "source": [
    "The activated data set of the Sklearn library was divided into two as training and testing. 70% of the data set was determined as training data and 30% as test data."
   ]
  },
  {
   "cell_type": "code",
   "execution_count": 24,
   "id": "96dbaeae",
   "metadata": {},
   "outputs": [],
   "source": [
    "from sklearn.model_selection import train_test_split"
   ]
  },
  {
   "cell_type": "code",
   "execution_count": 25,
   "id": "a5b8c315",
   "metadata": {},
   "outputs": [],
   "source": [
    "x_train, x_test, y_train, y_test= train_test_split(x,y,test_size=0.3,random_state=10)"
   ]
  },
  {
   "cell_type": "markdown",
   "id": "5165f57e",
   "metadata": {},
   "source": [
    "We look at how many rows of data are in the Training and Test dataset."
   ]
  },
  {
   "cell_type": "code",
   "execution_count": 26,
   "id": "64b709f8",
   "metadata": {},
   "outputs": [
    {
     "data": {
      "text/plain": [
       "9183"
      ]
     },
     "execution_count": 26,
     "metadata": {},
     "output_type": "execute_result"
    }
   ],
   "source": [
    "len(x_train)"
   ]
  },
  {
   "cell_type": "code",
   "execution_count": 27,
   "id": "d87ea9d5",
   "metadata": {},
   "outputs": [
    {
     "data": {
      "text/plain": [
       "3936"
      ]
     },
     "execution_count": 27,
     "metadata": {},
     "output_type": "execute_result"
    }
   ],
   "source": [
    "len(x_test)"
   ]
  },
  {
   "cell_type": "markdown",
   "id": "b864e086",
   "metadata": {},
   "source": [
    "Min-Max normalizasyonu yapmak için sklearn kütüphanesi aktif edildi."
   ]
  },
  {
   "cell_type": "code",
   "execution_count": 29,
   "id": "4f89ccc2",
   "metadata": {},
   "outputs": [],
   "source": [
    "from sklearn.preprocessing import MinMaxScaler"
   ]
  },
  {
   "cell_type": "code",
   "execution_count": 30,
   "id": "7216108a",
   "metadata": {},
   "outputs": [],
   "source": [
    "scaler = MinMaxScaler()"
   ]
  },
  {
   "cell_type": "code",
   "execution_count": 31,
   "id": "2991c635",
   "metadata": {},
   "outputs": [],
   "source": [
    "x_train = scaler.fit_transform(x_train)"
   ]
  },
  {
   "cell_type": "code",
   "execution_count": 32,
   "id": "2dd23b14",
   "metadata": {},
   "outputs": [],
   "source": [
    "x_test = scaler.fit_transform(x_test)"
   ]
  },
  {
   "cell_type": "markdown",
   "id": "03872588",
   "metadata": {},
   "source": [
    "The training model consists of 5 layers, 4 normal and 1 output layer. It is designed by creating 12 neurons in the normal layer and 1 neuron in the output layer. Relu activation function is used in normal layers. In the model, \"man\" was used as the optimizer and the mean square error was used as the loss."
   ]
  },
  {
   "cell_type": "code",
   "execution_count": 33,
   "id": "7df7a3d6",
   "metadata": {},
   "outputs": [],
   "source": [
    "from tensorflow.keras.models  import Sequential\n",
    "from tensorflow.keras.layers  import Dense"
   ]
  },
  {
   "cell_type": "code",
   "execution_count": 34,
   "id": "fc953461",
   "metadata": {},
   "outputs": [
    {
     "data": {
      "text/plain": [
       "(9183, 5)"
      ]
     },
     "execution_count": 34,
     "metadata": {},
     "output_type": "execute_result"
    }
   ],
   "source": [
    "x_train.shape"
   ]
  },
  {
   "cell_type": "code",
   "execution_count": 35,
   "id": "e448e740",
   "metadata": {},
   "outputs": [],
   "source": [
    "model =  Sequential()\n",
    "\n",
    "model.add(Dense(12,activation=\"relu\"))\n",
    "model.add(Dense(12,activation=\"relu\"))\n",
    "model.add(Dense(12,activation=\"relu\"))\n",
    "model.add(Dense(12,activation=\"relu\"))\n",
    "\n",
    "model.add(Dense(1))\n",
    "\n",
    "model.compile(optimizer=\"adam\",loss=\"mse\")"
   ]
  },
  {
   "cell_type": "markdown",
   "id": "922457d2",
   "metadata": {},
   "source": [
    "The model will be trained with the training data. Batch_size 250 is given. Our data set will be given to the model in data groups of 250. Because giving 13,000 data to the model at the same time may cause the model to crash. In model training, iteration (epoch) 250 was given.Test data is given for validation data."
   ]
  },
  {
   "cell_type": "code",
   "execution_count": 36,
   "id": "449f2414",
   "metadata": {},
   "outputs": [
    {
     "name": "stdout",
     "output_type": "stream",
     "text": [
      "Epoch 1/300\n",
      "37/37 [==============================] - 1s 14ms/step - loss: 741843456.0000 - val_loss: 769870528.0000\n",
      "Epoch 2/300\n",
      "37/37 [==============================] - 0s 5ms/step - loss: 741823040.0000 - val_loss: 769836928.0000\n",
      "Epoch 3/300\n",
      "37/37 [==============================] - 0s 5ms/step - loss: 741754944.0000 - val_loss: 769713792.0000\n",
      "Epoch 4/300\n",
      "37/37 [==============================] - 0s 5ms/step - loss: 741505920.0000 - val_loss: 769256768.0000\n",
      "Epoch 5/300\n",
      "37/37 [==============================] - 0s 5ms/step - loss: 740616384.0000 - val_loss: 767715392.0000\n",
      "Epoch 6/300\n",
      "37/37 [==============================] - 0s 5ms/step - loss: 737920704.0000 - val_loss: 763437568.0000\n",
      "Epoch 7/300\n",
      "37/37 [==============================] - 0s 5ms/step - loss: 731262528.0000 - val_loss: 753683456.0000\n",
      "Epoch 8/300\n",
      "37/37 [==============================] - 0s 5ms/step - loss: 717238784.0000 - val_loss: 734370432.0000\n",
      "Epoch 9/300\n",
      "37/37 [==============================] - 0s 6ms/step - loss: 691227200.0000 - val_loss: 700403584.0000\n",
      "Epoch 10/300\n",
      "37/37 [==============================] - 0s 6ms/step - loss: 647729536.0000 - val_loss: 645923392.0000\n",
      "Epoch 11/300\n",
      "37/37 [==============================] - 0s 5ms/step - loss: 581573760.0000 - val_loss: 567072064.0000\n",
      "Epoch 12/300\n",
      "37/37 [==============================] - 0s 6ms/step - loss: 491821152.0000 - val_loss: 466089120.0000\n",
      "Epoch 13/300\n",
      "37/37 [==============================] - 0s 5ms/step - loss: 385194336.0000 - val_loss: 354882336.0000\n",
      "Epoch 14/300\n",
      "37/37 [==============================] - 0s 5ms/step - loss: 279150528.0000 - val_loss: 254473264.0000\n",
      "Epoch 15/300\n",
      "37/37 [==============================] - 0s 6ms/step - loss: 196946320.0000 - val_loss: 186432496.0000\n",
      "Epoch 16/300\n",
      "37/37 [==============================] - 0s 5ms/step - loss: 151473744.0000 - val_loss: 154644160.0000\n",
      "Epoch 17/300\n",
      "37/37 [==============================] - 0s 5ms/step - loss: 134996960.0000 - val_loss: 144903248.0000\n",
      "Epoch 18/300\n",
      "37/37 [==============================] - 0s 6ms/step - loss: 131053504.0000 - val_loss: 142048048.0000\n",
      "Epoch 19/300\n",
      "37/37 [==============================] - 0s 5ms/step - loss: 129765208.0000 - val_loss: 140751616.0000\n",
      "Epoch 20/300\n",
      "37/37 [==============================] - 0s 5ms/step - loss: 128815344.0000 - val_loss: 139701712.0000\n",
      "Epoch 21/300\n",
      "37/37 [==============================] - 0s 5ms/step - loss: 127887888.0000 - val_loss: 138940016.0000\n",
      "Epoch 22/300\n",
      "37/37 [==============================] - 0s 6ms/step - loss: 127018088.0000 - val_loss: 138041600.0000\n",
      "Epoch 23/300\n",
      "37/37 [==============================] - 0s 5ms/step - loss: 126159408.0000 - val_loss: 137184624.0000\n",
      "Epoch 24/300\n",
      "37/37 [==============================] - 0s 5ms/step - loss: 125324432.0000 - val_loss: 136342896.0000\n",
      "Epoch 25/300\n",
      "37/37 [==============================] - 0s 5ms/step - loss: 124481248.0000 - val_loss: 135406080.0000\n",
      "Epoch 26/300\n",
      "37/37 [==============================] - 0s 5ms/step - loss: 123658400.0000 - val_loss: 134560544.0000\n",
      "Epoch 27/300\n",
      "37/37 [==============================] - 0s 5ms/step - loss: 122811352.0000 - val_loss: 133821272.0000\n",
      "Epoch 28/300\n",
      "37/37 [==============================] - 0s 5ms/step - loss: 122021280.0000 - val_loss: 132913864.0000\n",
      "Epoch 29/300\n",
      "37/37 [==============================] - 0s 6ms/step - loss: 121152976.0000 - val_loss: 132137208.0000\n",
      "Epoch 30/300\n",
      "37/37 [==============================] - 0s 6ms/step - loss: 120325568.0000 - val_loss: 131226184.0000\n",
      "Epoch 31/300\n",
      "37/37 [==============================] - 0s 6ms/step - loss: 119484960.0000 - val_loss: 130370296.0000\n",
      "Epoch 32/300\n",
      "37/37 [==============================] - 0s 6ms/step - loss: 118657360.0000 - val_loss: 129520808.0000\n",
      "Epoch 33/300\n",
      "37/37 [==============================] - 0s 6ms/step - loss: 117825856.0000 - val_loss: 128648664.0000\n",
      "Epoch 34/300\n",
      "37/37 [==============================] - 0s 5ms/step - loss: 116985976.0000 - val_loss: 127660720.0000\n",
      "Epoch 35/300\n",
      "37/37 [==============================] - 0s 6ms/step - loss: 116140472.0000 - val_loss: 126932904.0000\n",
      "Epoch 36/300\n",
      "37/37 [==============================] - 0s 6ms/step - loss: 115317024.0000 - val_loss: 126034512.0000\n",
      "Epoch 37/300\n",
      "37/37 [==============================] - 0s 6ms/step - loss: 114466880.0000 - val_loss: 125181040.0000\n",
      "Epoch 38/300\n",
      "37/37 [==============================] - 0s 5ms/step - loss: 113619880.0000 - val_loss: 124381416.0000\n",
      "Epoch 39/300\n",
      "37/37 [==============================] - 0s 5ms/step - loss: 112777272.0000 - val_loss: 123314496.0000\n",
      "Epoch 40/300\n",
      "37/37 [==============================] - 0s 5ms/step - loss: 111908976.0000 - val_loss: 122517208.0000\n",
      "Epoch 41/300\n",
      "37/37 [==============================] - 0s 6ms/step - loss: 111075680.0000 - val_loss: 121560904.0000\n",
      "Epoch 42/300\n",
      "37/37 [==============================] - 0s 6ms/step - loss: 110204568.0000 - val_loss: 120694200.0000\n",
      "Epoch 43/300\n",
      "37/37 [==============================] - 0s 6ms/step - loss: 109350616.0000 - val_loss: 119751120.0000\n",
      "Epoch 44/300\n",
      "37/37 [==============================] - 0s 6ms/step - loss: 108465504.0000 - val_loss: 118938584.0000\n",
      "Epoch 45/300\n",
      "37/37 [==============================] - 0s 6ms/step - loss: 107604512.0000 - val_loss: 118032104.0000\n",
      "Epoch 46/300\n",
      "37/37 [==============================] - 0s 6ms/step - loss: 106720648.0000 - val_loss: 117037768.0000\n",
      "Epoch 47/300\n",
      "37/37 [==============================] - 0s 6ms/step - loss: 105834496.0000 - val_loss: 116044568.0000\n",
      "Epoch 48/300\n",
      "37/37 [==============================] - 0s 6ms/step - loss: 104942016.0000 - val_loss: 115022064.0000\n",
      "Epoch 49/300\n",
      "37/37 [==============================] - 0s 6ms/step - loss: 104056120.0000 - val_loss: 114108840.0000\n",
      "Epoch 50/300\n",
      "37/37 [==============================] - 0s 6ms/step - loss: 103142488.0000 - val_loss: 113296800.0000\n",
      "Epoch 51/300\n",
      "37/37 [==============================] - 0s 5ms/step - loss: 102227440.0000 - val_loss: 112270920.0000\n",
      "Epoch 52/300\n",
      "37/37 [==============================] - 0s 5ms/step - loss: 101317984.0000 - val_loss: 111164368.0000\n",
      "Epoch 53/300\n",
      "37/37 [==============================] - 0s 5ms/step - loss: 100374424.0000 - val_loss: 110204848.0000\n",
      "Epoch 54/300\n",
      "37/37 [==============================] - 0s 5ms/step - loss: 99425512.0000 - val_loss: 109335384.0000\n",
      "Epoch 55/300\n",
      "37/37 [==============================] - 0s 5ms/step - loss: 98476616.0000 - val_loss: 108262776.0000\n",
      "Epoch 56/300\n",
      "37/37 [==============================] - 0s 6ms/step - loss: 97515312.0000 - val_loss: 107344672.0000\n",
      "Epoch 57/300\n",
      "37/37 [==============================] - 0s 6ms/step - loss: 96550240.0000 - val_loss: 106164040.0000\n",
      "Epoch 58/300\n",
      "37/37 [==============================] - 0s 5ms/step - loss: 95562976.0000 - val_loss: 105195720.0000\n",
      "Epoch 59/300\n",
      "37/37 [==============================] - 0s 6ms/step - loss: 94573176.0000 - val_loss: 104012016.0000\n",
      "Epoch 60/300\n",
      "37/37 [==============================] - 0s 6ms/step - loss: 93543136.0000 - val_loss: 103097016.0000\n",
      "Epoch 61/300\n",
      "37/37 [==============================] - 0s 6ms/step - loss: 92519024.0000 - val_loss: 101909704.0000\n",
      "Epoch 62/300\n",
      "37/37 [==============================] - 0s 5ms/step - loss: 91461912.0000 - val_loss: 100901840.0000\n",
      "Epoch 63/300\n",
      "37/37 [==============================] - 0s 5ms/step - loss: 90407128.0000 - val_loss: 99652448.0000\n",
      "Epoch 64/300\n",
      "37/37 [==============================] - 0s 5ms/step - loss: 89347360.0000 - val_loss: 98471304.0000\n",
      "Epoch 65/300\n",
      "37/37 [==============================] - 0s 5ms/step - loss: 88235968.0000 - val_loss: 97418744.0000\n",
      "Epoch 66/300\n",
      "37/37 [==============================] - 0s 5ms/step - loss: 87133528.0000 - val_loss: 96077736.0000\n",
      "Epoch 67/300\n",
      "37/37 [==============================] - 0s 5ms/step - loss: 85995832.0000 - val_loss: 94896584.0000\n",
      "Epoch 68/300\n",
      "37/37 [==============================] - 0s 6ms/step - loss: 84860528.0000 - val_loss: 93825344.0000\n",
      "Epoch 69/300\n",
      "37/37 [==============================] - 0s 5ms/step - loss: 83668952.0000 - val_loss: 92520568.0000\n",
      "Epoch 70/300\n",
      "37/37 [==============================] - 0s 6ms/step - loss: 82484184.0000 - val_loss: 91002944.0000\n",
      "Epoch 71/300\n",
      "37/37 [==============================] - 0s 5ms/step - loss: 81305424.0000 - val_loss: 89764816.0000\n"
     ]
    },
    {
     "name": "stdout",
     "output_type": "stream",
     "text": [
      "Epoch 72/300\n",
      "37/37 [==============================] - 0s 6ms/step - loss: 80109160.0000 - val_loss: 88793792.0000\n",
      "Epoch 73/300\n",
      "37/37 [==============================] - 0s 5ms/step - loss: 78848040.0000 - val_loss: 87253736.0000\n",
      "Epoch 74/300\n",
      "37/37 [==============================] - 0s 5ms/step - loss: 77571800.0000 - val_loss: 86179320.0000\n",
      "Epoch 75/300\n",
      "37/37 [==============================] - 0s 5ms/step - loss: 76343072.0000 - val_loss: 84536912.0000\n",
      "Epoch 76/300\n",
      "37/37 [==============================] - 0s 5ms/step - loss: 75027248.0000 - val_loss: 83173592.0000\n",
      "Epoch 77/300\n",
      "37/37 [==============================] - 0s 5ms/step - loss: 73766296.0000 - val_loss: 81907536.0000\n",
      "Epoch 78/300\n",
      "37/37 [==============================] - 0s 5ms/step - loss: 72450216.0000 - val_loss: 80058608.0000\n",
      "Epoch 79/300\n",
      "37/37 [==============================] - 0s 5ms/step - loss: 71151896.0000 - val_loss: 78759752.0000\n",
      "Epoch 80/300\n",
      "37/37 [==============================] - 0s 5ms/step - loss: 69835736.0000 - val_loss: 77598872.0000\n",
      "Epoch 81/300\n",
      "37/37 [==============================] - 0s 5ms/step - loss: 68536488.0000 - val_loss: 76210296.0000\n",
      "Epoch 82/300\n",
      "37/37 [==============================] - 0s 5ms/step - loss: 67199296.0000 - val_loss: 74521368.0000\n",
      "Epoch 83/300\n",
      "37/37 [==============================] - 0s 5ms/step - loss: 65872392.0000 - val_loss: 73082240.0000\n",
      "Epoch 84/300\n",
      "37/37 [==============================] - 0s 5ms/step - loss: 64546616.0000 - val_loss: 71800552.0000\n",
      "Epoch 85/300\n",
      "37/37 [==============================] - 0s 6ms/step - loss: 63219452.0000 - val_loss: 69865248.0000\n",
      "Epoch 86/300\n",
      "37/37 [==============================] - 0s 5ms/step - loss: 61919652.0000 - val_loss: 68840512.0000\n",
      "Epoch 87/300\n",
      "37/37 [==============================] - 0s 5ms/step - loss: 60603324.0000 - val_loss: 67771080.0000\n",
      "Epoch 88/300\n",
      "37/37 [==============================] - 0s 5ms/step - loss: 59296656.0000 - val_loss: 65924652.0000\n",
      "Epoch 89/300\n",
      "37/37 [==============================] - 0s 5ms/step - loss: 58059572.0000 - val_loss: 64433452.0000\n",
      "Epoch 90/300\n",
      "37/37 [==============================] - 0s 5ms/step - loss: 56819804.0000 - val_loss: 63506628.0000\n",
      "Epoch 91/300\n",
      "37/37 [==============================] - 0s 5ms/step - loss: 55614080.0000 - val_loss: 61970580.0000\n",
      "Epoch 92/300\n",
      "37/37 [==============================] - 0s 5ms/step - loss: 54445112.0000 - val_loss: 60899952.0000\n",
      "Epoch 93/300\n",
      "37/37 [==============================] - 0s 5ms/step - loss: 53329896.0000 - val_loss: 59336368.0000\n",
      "Epoch 94/300\n",
      "37/37 [==============================] - 0s 5ms/step - loss: 52225960.0000 - val_loss: 58410360.0000\n",
      "Epoch 95/300\n",
      "37/37 [==============================] - 0s 5ms/step - loss: 51178376.0000 - val_loss: 57294884.0000\n",
      "Epoch 96/300\n",
      "37/37 [==============================] - 0s 5ms/step - loss: 50220796.0000 - val_loss: 56501740.0000\n",
      "Epoch 97/300\n",
      "37/37 [==============================] - 0s 5ms/step - loss: 49244564.0000 - val_loss: 55283908.0000\n",
      "Epoch 98/300\n",
      "37/37 [==============================] - 0s 5ms/step - loss: 48348588.0000 - val_loss: 53887596.0000\n",
      "Epoch 99/300\n",
      "37/37 [==============================] - 0s 5ms/step - loss: 47500312.0000 - val_loss: 53102864.0000\n",
      "Epoch 100/300\n",
      "37/37 [==============================] - 0s 5ms/step - loss: 46721048.0000 - val_loss: 52565120.0000\n",
      "Epoch 101/300\n",
      "37/37 [==============================] - 0s 5ms/step - loss: 45996548.0000 - val_loss: 52071936.0000\n",
      "Epoch 102/300\n",
      "37/37 [==============================] - 0s 5ms/step - loss: 45246348.0000 - val_loss: 50833016.0000\n",
      "Epoch 103/300\n",
      "37/37 [==============================] - 0s 6ms/step - loss: 44571560.0000 - val_loss: 50082508.0000\n",
      "Epoch 104/300\n",
      "37/37 [==============================] - 0s 5ms/step - loss: 43991652.0000 - val_loss: 48760860.0000\n",
      "Epoch 105/300\n",
      "37/37 [==============================] - 0s 5ms/step - loss: 43399448.0000 - val_loss: 48506124.0000\n",
      "Epoch 106/300\n",
      "37/37 [==============================] - 0s 5ms/step - loss: 42839100.0000 - val_loss: 47539784.0000\n",
      "Epoch 107/300\n",
      "37/37 [==============================] - 0s 5ms/step - loss: 42371996.0000 - val_loss: 48029548.0000\n",
      "Epoch 108/300\n",
      "37/37 [==============================] - 0s 6ms/step - loss: 41869320.0000 - val_loss: 47619612.0000\n",
      "Epoch 109/300\n",
      "37/37 [==============================] - 0s 6ms/step - loss: 41372500.0000 - val_loss: 46566644.0000\n",
      "Epoch 110/300\n",
      "37/37 [==============================] - 0s 6ms/step - loss: 40968180.0000 - val_loss: 46199200.0000\n",
      "Epoch 111/300\n",
      "37/37 [==============================] - 0s 6ms/step - loss: 40540680.0000 - val_loss: 45961316.0000\n",
      "Epoch 112/300\n",
      "37/37 [==============================] - 0s 6ms/step - loss: 40174980.0000 - val_loss: 45571492.0000\n",
      "Epoch 113/300\n",
      "37/37 [==============================] - 0s 6ms/step - loss: 39810692.0000 - val_loss: 44477296.0000\n",
      "Epoch 114/300\n",
      "37/37 [==============================] - 0s 6ms/step - loss: 39468252.0000 - val_loss: 44684560.0000\n",
      "Epoch 115/300\n",
      "37/37 [==============================] - 0s 6ms/step - loss: 39108736.0000 - val_loss: 44158108.0000\n",
      "Epoch 116/300\n",
      "37/37 [==============================] - 0s 6ms/step - loss: 38801228.0000 - val_loss: 44165944.0000\n",
      "Epoch 117/300\n",
      "37/37 [==============================] - 0s 6ms/step - loss: 38496332.0000 - val_loss: 43294996.0000\n",
      "Epoch 118/300\n",
      "37/37 [==============================] - 0s 6ms/step - loss: 38237724.0000 - val_loss: 43008912.0000\n",
      "Epoch 119/300\n",
      "37/37 [==============================] - 0s 5ms/step - loss: 37979056.0000 - val_loss: 43001644.0000\n",
      "Epoch 120/300\n",
      "37/37 [==============================] - 0s 6ms/step - loss: 37725620.0000 - val_loss: 42782504.0000\n",
      "Epoch 121/300\n",
      "37/37 [==============================] - 0s 6ms/step - loss: 37523064.0000 - val_loss: 42686148.0000\n",
      "Epoch 122/300\n",
      "37/37 [==============================] - 0s 6ms/step - loss: 37246796.0000 - val_loss: 41898468.0000\n",
      "Epoch 123/300\n",
      "37/37 [==============================] - 0s 6ms/step - loss: 37052296.0000 - val_loss: 41565112.0000\n",
      "Epoch 124/300\n",
      "37/37 [==============================] - 0s 6ms/step - loss: 36821224.0000 - val_loss: 41789144.0000\n",
      "Epoch 125/300\n",
      "37/37 [==============================] - 0s 6ms/step - loss: 36603992.0000 - val_loss: 42320788.0000\n",
      "Epoch 126/300\n",
      "37/37 [==============================] - 0s 6ms/step - loss: 36448768.0000 - val_loss: 41551480.0000\n",
      "Epoch 127/300\n",
      "37/37 [==============================] - 0s 6ms/step - loss: 36228296.0000 - val_loss: 40709620.0000\n",
      "Epoch 128/300\n",
      "37/37 [==============================] - 0s 6ms/step - loss: 36090764.0000 - val_loss: 40848148.0000\n",
      "Epoch 129/300\n",
      "37/37 [==============================] - 0s 6ms/step - loss: 35923640.0000 - val_loss: 40535656.0000\n",
      "Epoch 130/300\n",
      "37/37 [==============================] - 0s 6ms/step - loss: 35782680.0000 - val_loss: 41297628.0000\n",
      "Epoch 131/300\n",
      "37/37 [==============================] - 0s 6ms/step - loss: 35632176.0000 - val_loss: 40289828.0000\n",
      "Epoch 132/300\n",
      "37/37 [==============================] - 0s 5ms/step - loss: 35530464.0000 - val_loss: 39712940.0000\n",
      "Epoch 133/300\n",
      "37/37 [==============================] - 0s 6ms/step - loss: 35405060.0000 - val_loss: 40951556.0000\n",
      "Epoch 134/300\n",
      "37/37 [==============================] - 0s 5ms/step - loss: 35310204.0000 - val_loss: 40316416.0000\n",
      "Epoch 135/300\n",
      "37/37 [==============================] - 0s 5ms/step - loss: 35143232.0000 - val_loss: 39885036.0000\n",
      "Epoch 136/300\n",
      "37/37 [==============================] - 0s 6ms/step - loss: 34968440.0000 - val_loss: 40689536.0000\n",
      "Epoch 137/300\n",
      "37/37 [==============================] - 0s 6ms/step - loss: 34878348.0000 - val_loss: 40309488.0000\n",
      "Epoch 138/300\n",
      "37/37 [==============================] - 0s 6ms/step - loss: 34762784.0000 - val_loss: 40858820.0000\n",
      "Epoch 139/300\n",
      "37/37 [==============================] - 0s 6ms/step - loss: 34697160.0000 - val_loss: 39617700.0000\n",
      "Epoch 140/300\n",
      "37/37 [==============================] - 0s 6ms/step - loss: 34570104.0000 - val_loss: 39816168.0000\n",
      "Epoch 141/300\n",
      "37/37 [==============================] - 0s 5ms/step - loss: 34493096.0000 - val_loss: 40100348.0000\n",
      "Epoch 142/300\n",
      "37/37 [==============================] - 0s 5ms/step - loss: 34391680.0000 - val_loss: 39289744.0000\n",
      "Epoch 143/300\n",
      "37/37 [==============================] - 0s 5ms/step - loss: 34299944.0000 - val_loss: 39791004.0000\n",
      "Epoch 144/300\n",
      "37/37 [==============================] - 0s 5ms/step - loss: 34228084.0000 - val_loss: 39767236.0000\n",
      "Epoch 145/300\n",
      "37/37 [==============================] - 0s 5ms/step - loss: 34145124.0000 - val_loss: 39110016.0000\n",
      "Epoch 146/300\n",
      "37/37 [==============================] - 0s 5ms/step - loss: 34050500.0000 - val_loss: 39824876.0000\n",
      "Epoch 147/300\n",
      "37/37 [==============================] - 0s 5ms/step - loss: 33977820.0000 - val_loss: 39680924.0000\n",
      "Epoch 148/300\n",
      "37/37 [==============================] - 0s 6ms/step - loss: 33938652.0000 - val_loss: 39312856.0000\n",
      "Epoch 149/300\n",
      "37/37 [==============================] - 0s 5ms/step - loss: 33850320.0000 - val_loss: 38972192.0000\n",
      "Epoch 150/300\n",
      "37/37 [==============================] - 0s 5ms/step - loss: 33758296.0000 - val_loss: 38690824.0000\n",
      "Epoch 151/300\n",
      "37/37 [==============================] - 0s 5ms/step - loss: 33671508.0000 - val_loss: 39927456.0000\n",
      "Epoch 152/300\n",
      "37/37 [==============================] - 0s 5ms/step - loss: 33614164.0000 - val_loss: 39680056.0000\n",
      "Epoch 153/300\n",
      "37/37 [==============================] - 0s 5ms/step - loss: 33570316.0000 - val_loss: 39272968.0000\n",
      "Epoch 154/300\n",
      "37/37 [==============================] - 0s 5ms/step - loss: 33470416.0000 - val_loss: 38831960.0000\n",
      "Epoch 155/300\n",
      "37/37 [==============================] - 0s 5ms/step - loss: 33437848.0000 - val_loss: 39014708.0000\n",
      "Epoch 156/300\n",
      "37/37 [==============================] - 0s 6ms/step - loss: 33354498.0000 - val_loss: 39457936.0000\n",
      "Epoch 157/300\n",
      "37/37 [==============================] - 0s 5ms/step - loss: 33297366.0000 - val_loss: 38963860.0000\n",
      "Epoch 158/300\n",
      "37/37 [==============================] - 0s 5ms/step - loss: 33245086.0000 - val_loss: 38674648.0000\n",
      "Epoch 159/300\n",
      "37/37 [==============================] - 0s 6ms/step - loss: 33186530.0000 - val_loss: 38512284.0000\n",
      "Epoch 160/300\n",
      "37/37 [==============================] - 0s 5ms/step - loss: 33137972.0000 - val_loss: 39514852.0000\n",
      "Epoch 161/300\n",
      "37/37 [==============================] - 0s 5ms/step - loss: 33124302.0000 - val_loss: 37847172.0000\n",
      "Epoch 162/300\n",
      "37/37 [==============================] - 0s 5ms/step - loss: 33033424.0000 - val_loss: 39063888.0000\n",
      "Epoch 163/300\n",
      "37/37 [==============================] - 0s 5ms/step - loss: 32981340.0000 - val_loss: 38637040.0000\n",
      "Epoch 164/300\n",
      "37/37 [==============================] - 0s 5ms/step - loss: 32944048.0000 - val_loss: 37870056.0000\n",
      "Epoch 165/300\n",
      "37/37 [==============================] - 0s 5ms/step - loss: 32890236.0000 - val_loss: 38478712.0000\n",
      "Epoch 166/300\n",
      "37/37 [==============================] - 0s 5ms/step - loss: 32837144.0000 - val_loss: 38543800.0000\n",
      "Epoch 167/300\n",
      "37/37 [==============================] - 0s 5ms/step - loss: 32786316.0000 - val_loss: 38123888.0000\n",
      "Epoch 168/300\n",
      "37/37 [==============================] - 0s 5ms/step - loss: 32748628.0000 - val_loss: 38662876.0000\n",
      "Epoch 169/300\n",
      "37/37 [==============================] - 0s 5ms/step - loss: 32723800.0000 - val_loss: 38545420.0000\n",
      "Epoch 170/300\n",
      "37/37 [==============================] - 0s 5ms/step - loss: 32669836.0000 - val_loss: 39286132.0000\n",
      "Epoch 171/300\n",
      "37/37 [==============================] - 0s 5ms/step - loss: 32638934.0000 - val_loss: 38213292.0000\n",
      "Epoch 172/300\n",
      "37/37 [==============================] - 0s 5ms/step - loss: 32604218.0000 - val_loss: 38092176.0000\n",
      "Epoch 173/300\n",
      "37/37 [==============================] - 0s 5ms/step - loss: 32546396.0000 - val_loss: 38253668.0000\n",
      "Epoch 174/300\n",
      "37/37 [==============================] - 0s 5ms/step - loss: 32493780.0000 - val_loss: 38447740.0000\n",
      "Epoch 175/300\n",
      "37/37 [==============================] - 0s 5ms/step - loss: 32468118.0000 - val_loss: 39185788.0000\n",
      "Epoch 176/300\n",
      "37/37 [==============================] - 0s 5ms/step - loss: 32486088.0000 - val_loss: 37548340.0000\n",
      "Epoch 177/300\n",
      "37/37 [==============================] - 0s 5ms/step - loss: 32437634.0000 - val_loss: 37856612.0000\n",
      "Epoch 178/300\n",
      "37/37 [==============================] - 0s 5ms/step - loss: 32390892.0000 - val_loss: 38045000.0000\n",
      "Epoch 179/300\n",
      "37/37 [==============================] - 0s 5ms/step - loss: 32340764.0000 - val_loss: 38522036.0000\n",
      "Epoch 180/300\n",
      "37/37 [==============================] - 0s 5ms/step - loss: 32338090.0000 - val_loss: 38667788.0000\n",
      "Epoch 181/300\n",
      "37/37 [==============================] - 0s 5ms/step - loss: 32288872.0000 - val_loss: 38318904.0000\n",
      "Epoch 182/300\n",
      "37/37 [==============================] - 0s 5ms/step - loss: 32264912.0000 - val_loss: 37842660.0000\n",
      "Epoch 183/300\n",
      "37/37 [==============================] - 0s 5ms/step - loss: 32232122.0000 - val_loss: 38016556.0000\n",
      "Epoch 184/300\n",
      "37/37 [==============================] - 0s 5ms/step - loss: 32191222.0000 - val_loss: 37415904.0000\n",
      "Epoch 185/300\n",
      "37/37 [==============================] - 0s 5ms/step - loss: 32162808.0000 - val_loss: 39204880.0000\n",
      "Epoch 186/300\n",
      "37/37 [==============================] - 0s 6ms/step - loss: 32164930.0000 - val_loss: 38141732.0000\n",
      "Epoch 187/300\n",
      "37/37 [==============================] - 0s 5ms/step - loss: 32099370.0000 - val_loss: 37791992.0000\n",
      "Epoch 188/300\n",
      "37/37 [==============================] - 0s 5ms/step - loss: 32124062.0000 - val_loss: 38032124.0000\n",
      "Epoch 189/300\n",
      "37/37 [==============================] - 0s 6ms/step - loss: 32071822.0000 - val_loss: 38658564.0000\n",
      "Epoch 190/300\n",
      "37/37 [==============================] - 0s 5ms/step - loss: 32085664.0000 - val_loss: 38388600.0000\n",
      "Epoch 191/300\n",
      "37/37 [==============================] - 0s 6ms/step - loss: 32082356.0000 - val_loss: 37459324.0000\n",
      "Epoch 192/300\n",
      "37/37 [==============================] - 0s 6ms/step - loss: 32013568.0000 - val_loss: 37449696.0000\n",
      "Epoch 193/300\n",
      "37/37 [==============================] - 0s 5ms/step - loss: 31978700.0000 - val_loss: 38287396.0000\n",
      "Epoch 194/300\n",
      "37/37 [==============================] - 0s 5ms/step - loss: 31965572.0000 - val_loss: 37256888.0000\n",
      "Epoch 195/300\n",
      "37/37 [==============================] - 0s 5ms/step - loss: 31932408.0000 - val_loss: 37515824.0000\n",
      "Epoch 196/300\n",
      "37/37 [==============================] - 0s 5ms/step - loss: 31917606.0000 - val_loss: 37644336.0000\n",
      "Epoch 197/300\n",
      "37/37 [==============================] - 0s 5ms/step - loss: 31906748.0000 - val_loss: 38063804.0000\n",
      "Epoch 198/300\n",
      "37/37 [==============================] - 0s 5ms/step - loss: 31855492.0000 - val_loss: 38102144.0000\n",
      "Epoch 199/300\n",
      "37/37 [==============================] - 0s 5ms/step - loss: 31845678.0000 - val_loss: 37817136.0000\n",
      "Epoch 200/300\n",
      "37/37 [==============================] - 0s 6ms/step - loss: 31873540.0000 - val_loss: 38115424.0000\n",
      "Epoch 201/300\n",
      "37/37 [==============================] - 0s 6ms/step - loss: 31845140.0000 - val_loss: 38169544.0000\n",
      "Epoch 202/300\n",
      "37/37 [==============================] - 0s 6ms/step - loss: 31816480.0000 - val_loss: 37371844.0000\n",
      "Epoch 203/300\n",
      "37/37 [==============================] - 0s 5ms/step - loss: 31769338.0000 - val_loss: 38306044.0000\n",
      "Epoch 204/300\n",
      "37/37 [==============================] - 0s 6ms/step - loss: 31734276.0000 - val_loss: 37441528.0000\n",
      "Epoch 205/300\n",
      "37/37 [==============================] - 0s 6ms/step - loss: 31731336.0000 - val_loss: 37611552.0000\n",
      "Epoch 206/300\n",
      "37/37 [==============================] - 0s 6ms/step - loss: 31774572.0000 - val_loss: 37418800.0000\n",
      "Epoch 207/300\n",
      "37/37 [==============================] - 0s 5ms/step - loss: 31768788.0000 - val_loss: 37859704.0000\n",
      "Epoch 208/300\n",
      "37/37 [==============================] - 0s 5ms/step - loss: 31735328.0000 - val_loss: 38327188.0000\n",
      "Epoch 209/300\n",
      "37/37 [==============================] - 0s 5ms/step - loss: 31684996.0000 - val_loss: 37405576.0000\n",
      "Epoch 210/300\n",
      "37/37 [==============================] - 0s 5ms/step - loss: 31651026.0000 - val_loss: 37835844.0000\n",
      "Epoch 211/300\n",
      "37/37 [==============================] - 0s 5ms/step - loss: 31643498.0000 - val_loss: 38384936.0000\n",
      "Epoch 212/300\n",
      "37/37 [==============================] - 0s 5ms/step - loss: 31625080.0000 - val_loss: 37724672.0000\n",
      "Epoch 213/300\n",
      "37/37 [==============================] - 0s 5ms/step - loss: 31639990.0000 - val_loss: 37230872.0000\n",
      "Epoch 214/300\n"
     ]
    },
    {
     "name": "stdout",
     "output_type": "stream",
     "text": [
      "37/37 [==============================] - 0s 5ms/step - loss: 31618550.0000 - val_loss: 38231636.0000\n",
      "Epoch 215/300\n",
      "37/37 [==============================] - 0s 5ms/step - loss: 31627954.0000 - val_loss: 38454880.0000\n",
      "Epoch 216/300\n",
      "37/37 [==============================] - 0s 5ms/step - loss: 31592392.0000 - val_loss: 38268544.0000\n",
      "Epoch 217/300\n",
      "37/37 [==============================] - 0s 5ms/step - loss: 31551452.0000 - val_loss: 38047464.0000\n",
      "Epoch 218/300\n",
      "37/37 [==============================] - 0s 5ms/step - loss: 31559980.0000 - val_loss: 38270892.0000\n",
      "Epoch 219/300\n",
      "37/37 [==============================] - 0s 5ms/step - loss: 31519490.0000 - val_loss: 37695976.0000\n",
      "Epoch 220/300\n",
      "37/37 [==============================] - 0s 5ms/step - loss: 31503072.0000 - val_loss: 37731220.0000\n",
      "Epoch 221/300\n",
      "37/37 [==============================] - 0s 5ms/step - loss: 31493366.0000 - val_loss: 37262088.0000\n",
      "Epoch 222/300\n",
      "37/37 [==============================] - 0s 5ms/step - loss: 31522344.0000 - val_loss: 37686852.0000\n",
      "Epoch 223/300\n",
      "37/37 [==============================] - 0s 5ms/step - loss: 31453454.0000 - val_loss: 38094760.0000\n",
      "Epoch 224/300\n",
      "37/37 [==============================] - 0s 5ms/step - loss: 31449262.0000 - val_loss: 37173684.0000\n",
      "Epoch 225/300\n",
      "37/37 [==============================] - 0s 5ms/step - loss: 31471982.0000 - val_loss: 38631736.0000\n",
      "Epoch 226/300\n",
      "37/37 [==============================] - 0s 5ms/step - loss: 31425464.0000 - val_loss: 38108884.0000\n",
      "Epoch 227/300\n",
      "37/37 [==============================] - 0s 5ms/step - loss: 31400036.0000 - val_loss: 37187360.0000\n",
      "Epoch 228/300\n",
      "37/37 [==============================] - 0s 5ms/step - loss: 31448328.0000 - val_loss: 36888024.0000\n",
      "Epoch 229/300\n",
      "37/37 [==============================] - 0s 5ms/step - loss: 31475722.0000 - val_loss: 37037228.0000\n",
      "Epoch 230/300\n",
      "37/37 [==============================] - 0s 5ms/step - loss: 31400322.0000 - val_loss: 37764464.0000\n",
      "Epoch 231/300\n",
      "37/37 [==============================] - 0s 5ms/step - loss: 31382742.0000 - val_loss: 38118252.0000\n",
      "Epoch 232/300\n",
      "37/37 [==============================] - 0s 5ms/step - loss: 31392664.0000 - val_loss: 37833460.0000\n",
      "Epoch 233/300\n",
      "37/37 [==============================] - 0s 5ms/step - loss: 31349516.0000 - val_loss: 37678680.0000\n",
      "Epoch 234/300\n",
      "37/37 [==============================] - 0s 5ms/step - loss: 31342862.0000 - val_loss: 38038460.0000\n",
      "Epoch 235/300\n",
      "37/37 [==============================] - 0s 5ms/step - loss: 31337424.0000 - val_loss: 37456168.0000\n",
      "Epoch 236/300\n",
      "37/37 [==============================] - 0s 5ms/step - loss: 31327756.0000 - val_loss: 37641036.0000\n",
      "Epoch 237/300\n",
      "37/37 [==============================] - 0s 5ms/step - loss: 31319732.0000 - val_loss: 38323356.0000\n",
      "Epoch 238/300\n",
      "37/37 [==============================] - 0s 5ms/step - loss: 31317544.0000 - val_loss: 37939440.0000\n",
      "Epoch 239/300\n",
      "37/37 [==============================] - 0s 5ms/step - loss: 31322290.0000 - val_loss: 37208972.0000\n",
      "Epoch 240/300\n",
      "37/37 [==============================] - 0s 5ms/step - loss: 31259648.0000 - val_loss: 38240604.0000\n",
      "Epoch 241/300\n",
      "37/37 [==============================] - 0s 5ms/step - loss: 31251066.0000 - val_loss: 38534712.0000\n",
      "Epoch 242/300\n",
      "37/37 [==============================] - 0s 5ms/step - loss: 31238902.0000 - val_loss: 37441512.0000\n",
      "Epoch 243/300\n",
      "37/37 [==============================] - 0s 5ms/step - loss: 31225596.0000 - val_loss: 37477976.0000\n",
      "Epoch 244/300\n",
      "37/37 [==============================] - 0s 5ms/step - loss: 31245506.0000 - val_loss: 37085488.0000\n",
      "Epoch 245/300\n",
      "37/37 [==============================] - 0s 5ms/step - loss: 31246420.0000 - val_loss: 37766508.0000\n",
      "Epoch 246/300\n",
      "37/37 [==============================] - 0s 5ms/step - loss: 31183864.0000 - val_loss: 38484484.0000\n",
      "Epoch 247/300\n",
      "37/37 [==============================] - 0s 5ms/step - loss: 31204506.0000 - val_loss: 37889120.0000\n",
      "Epoch 248/300\n",
      "37/37 [==============================] - 0s 5ms/step - loss: 31171114.0000 - val_loss: 37408760.0000\n",
      "Epoch 249/300\n",
      "37/37 [==============================] - 0s 5ms/step - loss: 31151748.0000 - val_loss: 38251644.0000\n",
      "Epoch 250/300\n",
      "37/37 [==============================] - 0s 5ms/step - loss: 31190926.0000 - val_loss: 36784652.0000\n",
      "Epoch 251/300\n",
      "37/37 [==============================] - 0s 5ms/step - loss: 31188046.0000 - val_loss: 37453252.0000\n",
      "Epoch 252/300\n",
      "37/37 [==============================] - 0s 5ms/step - loss: 31125228.0000 - val_loss: 38321872.0000\n",
      "Epoch 253/300\n",
      "37/37 [==============================] - 0s 5ms/step - loss: 31133264.0000 - val_loss: 38269052.0000\n",
      "Epoch 254/300\n",
      "37/37 [==============================] - 0s 5ms/step - loss: 31125964.0000 - val_loss: 39101372.0000\n",
      "Epoch 255/300\n",
      "37/37 [==============================] - 0s 5ms/step - loss: 31160170.0000 - val_loss: 38214048.0000\n",
      "Epoch 256/300\n",
      "37/37 [==============================] - 0s 5ms/step - loss: 31098092.0000 - val_loss: 37722812.0000\n",
      "Epoch 257/300\n",
      "37/37 [==============================] - 0s 5ms/step - loss: 31071426.0000 - val_loss: 38012928.0000\n",
      "Epoch 258/300\n",
      "37/37 [==============================] - 0s 5ms/step - loss: 31078348.0000 - val_loss: 36748832.0000\n",
      "Epoch 259/300\n",
      "37/37 [==============================] - 0s 5ms/step - loss: 31135292.0000 - val_loss: 38027604.0000\n",
      "Epoch 260/300\n",
      "37/37 [==============================] - 0s 5ms/step - loss: 31040466.0000 - val_loss: 37785384.0000\n",
      "Epoch 261/300\n",
      "37/37 [==============================] - 0s 5ms/step - loss: 31043356.0000 - val_loss: 37813624.0000\n",
      "Epoch 262/300\n",
      "37/37 [==============================] - 0s 5ms/step - loss: 31061820.0000 - val_loss: 37634504.0000\n",
      "Epoch 263/300\n",
      "37/37 [==============================] - 0s 6ms/step - loss: 31046490.0000 - val_loss: 38034760.0000\n",
      "Epoch 264/300\n",
      "37/37 [==============================] - 0s 5ms/step - loss: 31012292.0000 - val_loss: 38067616.0000\n",
      "Epoch 265/300\n",
      "37/37 [==============================] - 0s 5ms/step - loss: 31000188.0000 - val_loss: 36853544.0000\n",
      "Epoch 266/300\n",
      "37/37 [==============================] - 0s 5ms/step - loss: 31014768.0000 - val_loss: 37959692.0000\n",
      "Epoch 267/300\n",
      "37/37 [==============================] - 0s 5ms/step - loss: 31018922.0000 - val_loss: 38342364.0000\n",
      "Epoch 268/300\n",
      "37/37 [==============================] - 0s 5ms/step - loss: 30996198.0000 - val_loss: 38532900.0000\n",
      "Epoch 269/300\n",
      "37/37 [==============================] - 0s 5ms/step - loss: 30973400.0000 - val_loss: 37680616.0000\n",
      "Epoch 270/300\n",
      "37/37 [==============================] - 0s 5ms/step - loss: 30950840.0000 - val_loss: 38383476.0000\n",
      "Epoch 271/300\n",
      "37/37 [==============================] - 0s 5ms/step - loss: 30971020.0000 - val_loss: 38734452.0000\n",
      "Epoch 272/300\n",
      "37/37 [==============================] - 0s 5ms/step - loss: 30970402.0000 - val_loss: 37562716.0000\n",
      "Epoch 273/300\n",
      "37/37 [==============================] - 0s 6ms/step - loss: 30921552.0000 - val_loss: 38100100.0000\n",
      "Epoch 274/300\n",
      "37/37 [==============================] - 0s 6ms/step - loss: 30920952.0000 - val_loss: 37364476.0000\n",
      "Epoch 275/300\n",
      "37/37 [==============================] - 0s 6ms/step - loss: 30904574.0000 - val_loss: 38170168.0000\n",
      "Epoch 276/300\n",
      "37/37 [==============================] - 0s 6ms/step - loss: 30901702.0000 - val_loss: 38568876.0000\n",
      "Epoch 277/300\n",
      "37/37 [==============================] - 0s 6ms/step - loss: 30890408.0000 - val_loss: 38551124.0000\n",
      "Epoch 278/300\n",
      "37/37 [==============================] - 0s 6ms/step - loss: 30894186.0000 - val_loss: 38558352.0000\n",
      "Epoch 279/300\n",
      "37/37 [==============================] - 0s 6ms/step - loss: 30895852.0000 - val_loss: 38121916.0000\n",
      "Epoch 280/300\n",
      "37/37 [==============================] - 0s 6ms/step - loss: 30859730.0000 - val_loss: 37984464.0000\n",
      "Epoch 281/300\n",
      "37/37 [==============================] - 0s 5ms/step - loss: 30857240.0000 - val_loss: 38146028.0000\n",
      "Epoch 282/300\n",
      "37/37 [==============================] - 0s 6ms/step - loss: 30827398.0000 - val_loss: 37941368.0000\n",
      "Epoch 283/300\n",
      "37/37 [==============================] - 0s 5ms/step - loss: 30850150.0000 - val_loss: 37962220.0000\n",
      "Epoch 284/300\n",
      "37/37 [==============================] - 0s 5ms/step - loss: 30824508.0000 - val_loss: 38249816.0000\n",
      "Epoch 285/300\n",
      "37/37 [==============================] - 0s 6ms/step - loss: 30809884.0000 - val_loss: 38676016.0000\n",
      "Epoch 286/300\n",
      "37/37 [==============================] - 0s 6ms/step - loss: 30810638.0000 - val_loss: 38519320.0000\n",
      "Epoch 287/300\n",
      "37/37 [==============================] - 0s 6ms/step - loss: 30845492.0000 - val_loss: 38568420.0000\n",
      "Epoch 288/300\n",
      "37/37 [==============================] - 0s 6ms/step - loss: 30810334.0000 - val_loss: 38968732.0000\n",
      "Epoch 289/300\n",
      "37/37 [==============================] - 0s 6ms/step - loss: 30775914.0000 - val_loss: 37870480.0000\n",
      "Epoch 290/300\n",
      "37/37 [==============================] - 0s 6ms/step - loss: 30784346.0000 - val_loss: 37487024.0000\n",
      "Epoch 291/300\n",
      "37/37 [==============================] - 0s 6ms/step - loss: 30789060.0000 - val_loss: 38295152.0000\n",
      "Epoch 292/300\n",
      "37/37 [==============================] - 0s 6ms/step - loss: 30761826.0000 - val_loss: 38342200.0000\n",
      "Epoch 293/300\n",
      "37/37 [==============================] - 0s 6ms/step - loss: 30740798.0000 - val_loss: 36882092.0000\n",
      "Epoch 294/300\n",
      "37/37 [==============================] - 0s 6ms/step - loss: 30777460.0000 - val_loss: 38300196.0000\n",
      "Epoch 295/300\n",
      "37/37 [==============================] - 0s 5ms/step - loss: 30758432.0000 - val_loss: 37835292.0000\n",
      "Epoch 296/300\n",
      "37/37 [==============================] - 0s 5ms/step - loss: 30751670.0000 - val_loss: 36879048.0000\n",
      "Epoch 297/300\n",
      "37/37 [==============================] - 0s 5ms/step - loss: 30704654.0000 - val_loss: 38812836.0000\n",
      "Epoch 298/300\n",
      "37/37 [==============================] - 0s 5ms/step - loss: 30734714.0000 - val_loss: 38502540.0000\n",
      "Epoch 299/300\n",
      "37/37 [==============================] - 0s 5ms/step - loss: 30741352.0000 - val_loss: 39565064.0000\n",
      "Epoch 300/300\n",
      "37/37 [==============================] - 0s 5ms/step - loss: 30702930.0000 - val_loss: 38469020.0000\n"
     ]
    },
    {
     "data": {
      "text/plain": [
       "<keras.callbacks.History at 0x18703fcbd30>"
      ]
     },
     "execution_count": 36,
     "metadata": {},
     "output_type": "execute_result"
    }
   ],
   "source": [
    "model.fit(x=x_train, y=y_train,epochs=300,validation_data=(x_test,y_test),batch_size=250)"
   ]
  },
  {
   "cell_type": "markdown",
   "id": "88cf9558",
   "metadata": {},
   "source": [
    "## Evaluation of Results"
   ]
  },
  {
   "cell_type": "markdown",
   "id": "94e82af3",
   "metadata": {},
   "source": [
    "Let's examine the losses for training and test data"
   ]
  },
  {
   "cell_type": "code",
   "execution_count": 37,
   "id": "f2464ea9",
   "metadata": {},
   "outputs": [],
   "source": [
    "kayipVerisi =pd.DataFrame(model.history.history)"
   ]
  },
  {
   "cell_type": "code",
   "execution_count": 38,
   "id": "a7a59fc8",
   "metadata": {},
   "outputs": [
    {
     "data": {
      "text/html": [
       "<div>\n",
       "<style scoped>\n",
       "    .dataframe tbody tr th:only-of-type {\n",
       "        vertical-align: middle;\n",
       "    }\n",
       "\n",
       "    .dataframe tbody tr th {\n",
       "        vertical-align: top;\n",
       "    }\n",
       "\n",
       "    .dataframe thead th {\n",
       "        text-align: right;\n",
       "    }\n",
       "</style>\n",
       "<table border=\"1\" class=\"dataframe\">\n",
       "  <thead>\n",
       "    <tr style=\"text-align: right;\">\n",
       "      <th></th>\n",
       "      <th>loss</th>\n",
       "      <th>val_loss</th>\n",
       "    </tr>\n",
       "  </thead>\n",
       "  <tbody>\n",
       "    <tr>\n",
       "      <th>0</th>\n",
       "      <td>741843456.0</td>\n",
       "      <td>769870528.0</td>\n",
       "    </tr>\n",
       "    <tr>\n",
       "      <th>1</th>\n",
       "      <td>741823040.0</td>\n",
       "      <td>769836928.0</td>\n",
       "    </tr>\n",
       "    <tr>\n",
       "      <th>2</th>\n",
       "      <td>741754944.0</td>\n",
       "      <td>769713792.0</td>\n",
       "    </tr>\n",
       "    <tr>\n",
       "      <th>3</th>\n",
       "      <td>741505920.0</td>\n",
       "      <td>769256768.0</td>\n",
       "    </tr>\n",
       "    <tr>\n",
       "      <th>4</th>\n",
       "      <td>740616384.0</td>\n",
       "      <td>767715392.0</td>\n",
       "    </tr>\n",
       "  </tbody>\n",
       "</table>\n",
       "</div>"
      ],
      "text/plain": [
       "          loss     val_loss\n",
       "0  741843456.0  769870528.0\n",
       "1  741823040.0  769836928.0\n",
       "2  741754944.0  769713792.0\n",
       "3  741505920.0  769256768.0\n",
       "4  740616384.0  767715392.0"
      ]
     },
     "execution_count": 38,
     "metadata": {},
     "output_type": "execute_result"
    }
   ],
   "source": [
    "kayipVerisi.head()"
   ]
  },
  {
   "cell_type": "markdown",
   "id": "e8f43849",
   "metadata": {},
   "source": [
    "Let's examine the graphs of losses."
   ]
  },
  {
   "cell_type": "code",
   "execution_count": 39,
   "id": "66cd8522",
   "metadata": {},
   "outputs": [
    {
     "data": {
      "text/plain": [
       "<AxesSubplot:>"
      ]
     },
     "execution_count": 39,
     "metadata": {},
     "output_type": "execute_result"
    },
    {
     "data": {
      "image/png": "[encoded data removed]",
      "text/plain": [
       "<Figure size 640x480 with 1 Axes>"
      ]
     },
     "metadata": {},
     "output_type": "display_data"
    }
   ],
   "source": [
    "kayipVerisi.plot()"
   ]
  },
  {
   "cell_type": "markdown",
   "id": "1a4f0519",
   "metadata": {},
   "source": [
    "When we look at the \"lost\" values of the Training and Test data, it started around 7 in the first iteration and decreased to 1 \"loss\" in the 25th iteration. From the 25th iteration to the 150th iteration, the \"loss\" decreased by 0.2. 150th to 300th iteration \"losses\" of training and test data went in the same direction and there were no overfitting events."
   ]
  },
  {
   "cell_type": "code",
   "execution_count": 40,
   "id": "2c43a700",
   "metadata": {},
   "outputs": [],
   "source": [
    "from sklearn.metrics import mean_squared_error,mean_absolute_error"
   ]
  },
  {
   "cell_type": "code",
   "execution_count": 41,
   "id": "9bc4d9b2",
   "metadata": {},
   "outputs": [
    {
     "name": "stdout",
     "output_type": "stream",
     "text": [
      "123/123 [==============================] - 0s 2ms/step\n"
     ]
    }
   ],
   "source": [
    "tahminDizisi= model.predict(x_test)"
   ]
  },
  {
   "cell_type": "code",
   "execution_count": 42,
   "id": "cb180621",
   "metadata": {},
   "outputs": [
    {
     "data": {
      "text/plain": [
       "array([[37357.363],\n",
       "       [29381.277],\n",
       "       [37625.246],\n",
       "       ...,\n",
       "       [21845.658],\n",
       "       [16502.096],\n",
       "       [20931.11 ]], dtype=float32)"
      ]
     },
     "execution_count": 42,
     "metadata": {},
     "output_type": "execute_result"
    }
   ],
   "source": [
    "tahminDizisi"
   ]
  },
  {
   "cell_type": "code",
   "execution_count": 43,
   "id": "e426d5f9",
   "metadata": {},
   "outputs": [
    {
     "data": {
      "text/plain": [
       "3893.267694411239"
      ]
     },
     "execution_count": 43,
     "metadata": {},
     "output_type": "execute_result"
    }
   ],
   "source": [
    "mean_absolute_error(y_test,tahminDizisi)"
   ]
  },
  {
   "cell_type": "markdown",
   "id": "8e08f966",
   "metadata": {},
   "source": [
    "When we compared the actual car prices with our estimate for the test data, we found an average difference of 3893 pounds. When we look at the average car prices, we found 24074 liras. According to the user of the data, it can be decided that such an error can be tolerated or further reduced."
   ]
  },
  {
   "cell_type": "code",
   "execution_count": 44,
   "id": "5c861d0b",
   "metadata": {},
   "outputs": [
    {
     "data": {
      "text/plain": [
       "[<matplotlib.lines.Line2D at 0x18706609c70>]"
      ]
     },
     "execution_count": 44,
     "metadata": {},
     "output_type": "execute_result"
    },
    {
     "data": {
      "image/png": "[encoded data removed]",
      "text/plain": [
       "<Figure size 640x480 with 1 Axes>"
      ]
     },
     "metadata": {},
     "output_type": "display_data"
    }
   ],
   "source": [
    "plt.scatter(y_test,tahminDizisi)\n",
    "plt.plot(y_test,y_test,\"g-*\")"
   ]
  },
  {
   "cell_type": "markdown",
   "id": "73b7eae5",
   "metadata": {},
   "source": [
    "Conclusion: Our model can be developed according to the user. More data can be collected for this. Test and Training data rates can be changed. The number of iterations can be increased. The number of neurons and layers can be increased."
   ]
  },
  {
   "cell_type": "code",
   "execution_count": null,
   "id": "9a38259b",
   "metadata": {},
   "outputs": [],
   "source": []
  }
 ],
 "metadata": {
  "kernelspec": {
   "display_name": "Python 3 (ipykernel)",
   "language": "python",
   "name": "python3"
  },
  "language_info": {
   "codemirror_mode": {
    "name": "ipython",
    "version": 3
   },
   "file_extension": ".py",
   "mimetype": "text/x-python",
   "name": "python",
   "nbconvert_exporter": "python",
   "pygments_lexer": "ipython3",
   "version": "3.9.13"
  }
 },
 "nbformat": 4,
 "nbformat_minor": 5
}
